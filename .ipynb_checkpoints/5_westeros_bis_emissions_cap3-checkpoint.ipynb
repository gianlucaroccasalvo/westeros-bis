{
 "cells": [
  {
   "cell_type": "markdown",
   "id": "82264e30",
   "metadata": {},
   "source": [
    "# Westeros bis - emissions introduction and analysis\n",
    "\n",
    "Copy of the scenario (``westeros_bis_energymix1.ipynb``) with the implementation of:\n",
    "- emission impact of gas and coal\n",
    "- emissions cap of 500 Mt of CO2.\n",
    "\n",
    "### Pre-requisites\n",
    "- You have the MESSAGEix framework installed and working\n",
    "- You have run (``westeros_bis_baseline.ipynb``) scenario and solved it successfully\n",
    "- You have run (``westeros_bis_energymix1.ipynb``) scenario"
   ]
  },
  {
   "cell_type": "code",
   "execution_count": 1,
   "id": "b017c530",
   "metadata": {},
   "outputs": [
    {
     "data": {
      "application/javascript": [
       "IPython.OutputArea.prototype._should_scroll = function(lines) { return false; }"
      ],
      "text/plain": [
       "<IPython.core.display.Javascript object>"
      ]
     },
     "metadata": {},
     "output_type": "display_data"
    }
   ],
   "source": [
    "import pandas as pd\n",
    "import ixmp\n",
    "import message_ix\n",
    "\n",
    "from message_ix.util import make_df\n",
    "\n",
    "%matplotlib inline"
   ]
  },
  {
   "cell_type": "code",
   "execution_count": 2,
   "id": "bd686abd",
   "metadata": {},
   "outputs": [],
   "source": [
    "mp = ixmp.Platform()"
   ]
  },
  {
   "cell_type": "markdown",
   "id": "cb6d50d5",
   "metadata": {},
   "source": [
    "Recalling the model"
   ]
  },
  {
   "cell_type": "code",
   "execution_count": 3,
   "id": "8f507eca",
   "metadata": {},
   "outputs": [],
   "source": [
    "model = 'Westeros Electrified'\n",
    "base = message_ix.Scenario(mp, model=model, scenario='energy mix1')"
   ]
  },
  {
   "cell_type": "markdown",
   "id": "99ef9c84",
   "metadata": {},
   "source": [
    "Creating emission scenario by cloning energy mix 1"
   ]
  },
  {
   "cell_type": "code",
   "execution_count": 4,
   "id": "87e3f44a",
   "metadata": {},
   "outputs": [],
   "source": [
    "scen_em3 = base.clone(model, 'emissions3','adding emissions cap',\n",
    "                  keep_solution=False)\n",
    "scen_em3.check_out()"
   ]
  },
  {
   "cell_type": "code",
   "execution_count": 5,
   "id": "5f571a63",
   "metadata": {},
   "outputs": [],
   "source": [
    "year_df = scen_em3.vintage_and_active_years()\n",
    "vintage_years, act_years = year_df['year_vtg'], year_df['year_act']\n",
    "model_horizon = scen_em3.set('year') \n",
    "country = 'Westeros'"
   ]
  },
  {
   "cell_type": "markdown",
   "id": "322e102f",
   "metadata": {},
   "source": [
    "Introducing emissions category, parameter, and value for coal and gas technology"
   ]
  },
  {
   "cell_type": "code",
   "execution_count": 6,
   "id": "944d13cf",
   "metadata": {},
   "outputs": [
    {
     "name": "stderr",
     "output_type": "stream",
     "text": [
      "INFO:root:unit `tCO2/kWa` is already defined in the platform instance\n",
      "INFO:root:unit `MtCO2` is already defined in the platform instance\n"
     ]
    }
   ],
   "source": [
    "# first we introduce the emission of CO2 and the emission category GHG\n",
    "scen_em3.add_set('emission', 'CO2')\n",
    "scen_em3.add_cat('emission', 'GHG', 'CO2')\n",
    "\n",
    "# we now add CO2 emissions to the coal powerplant\n",
    "base_emission_factor = {\n",
    "    'node_loc': country,\n",
    "    'year_vtg': vintage_years,\n",
    "    'year_act': act_years,\n",
    "    'mode': 'standard',\n",
    "    'unit': 'tCO2/kWa',\n",
    "}\n",
    "\n",
    "# adding new units to the model library (needed only once)\n",
    "mp.add_unit('tCO2/kWa')\n",
    "mp.add_unit('MtCO2')"
   ]
  },
  {
   "cell_type": "code",
   "execution_count": 7,
   "id": "e9333bb6",
   "metadata": {},
   "outputs": [],
   "source": [
    "emission_factor = { # values from https://doi.org/10.1016/B978-0-8155-2049-8.10007-5 converted to tCO2/kWa\n",
    "    'coal_ppl': 7.07, \n",
    "    'ngcc_ppl': 3.11,\n",
    "    'wind_ppl': 0,\n",
    "}\n",
    "\n",
    "for tec, val in emission_factor.items():\n",
    "    df = make_df(base_emission_factor, technology=tec, value=val, emission='CO2')\n",
    "    scen_em3.add_par('emission_factor', df)"
   ]
  },
  {
   "cell_type": "markdown",
   "id": "6cd186db",
   "metadata": {},
   "source": [
    "Introducing an upper bound"
   ]
  },
  {
   "cell_type": "code",
   "execution_count": 8,
   "id": "165db3af",
   "metadata": {},
   "outputs": [],
   "source": [
    "scen_em3.add_par('bound_emission', [country, 'GHG', 'all', 'cumulative'],\n",
    "             value=500., unit='MtCO2')"
   ]
  },
  {
   "cell_type": "code",
   "execution_count": 9,
   "id": "0de6d3a7",
   "metadata": {},
   "outputs": [
    {
     "data": {
      "text/html": [
       "<div>\n",
       "<style scoped>\n",
       "    .dataframe tbody tr th:only-of-type {\n",
       "        vertical-align: middle;\n",
       "    }\n",
       "\n",
       "    .dataframe tbody tr th {\n",
       "        vertical-align: top;\n",
       "    }\n",
       "\n",
       "    .dataframe thead th {\n",
       "        text-align: right;\n",
       "    }\n",
       "</style>\n",
       "<table border=\"1\" class=\"dataframe\">\n",
       "  <thead>\n",
       "    <tr style=\"text-align: right;\">\n",
       "      <th></th>\n",
       "      <th>node_loc</th>\n",
       "      <th>technology</th>\n",
       "      <th>year_vtg</th>\n",
       "      <th>year_act</th>\n",
       "      <th>mode</th>\n",
       "      <th>emission</th>\n",
       "      <th>value</th>\n",
       "      <th>unit</th>\n",
       "    </tr>\n",
       "  </thead>\n",
       "  <tbody>\n",
       "    <tr>\n",
       "      <th>0</th>\n",
       "      <td>Westeros</td>\n",
       "      <td>coal_ppl</td>\n",
       "      <td>690</td>\n",
       "      <td>700</td>\n",
       "      <td>standard</td>\n",
       "      <td>CO2</td>\n",
       "      <td>7.07</td>\n",
       "      <td>tCO2/kWa</td>\n",
       "    </tr>\n",
       "    <tr>\n",
       "      <th>1</th>\n",
       "      <td>Westeros</td>\n",
       "      <td>coal_ppl</td>\n",
       "      <td>690</td>\n",
       "      <td>710</td>\n",
       "      <td>standard</td>\n",
       "      <td>CO2</td>\n",
       "      <td>7.07</td>\n",
       "      <td>tCO2/kWa</td>\n",
       "    </tr>\n",
       "    <tr>\n",
       "      <th>2</th>\n",
       "      <td>Westeros</td>\n",
       "      <td>coal_ppl</td>\n",
       "      <td>690</td>\n",
       "      <td>720</td>\n",
       "      <td>standard</td>\n",
       "      <td>CO2</td>\n",
       "      <td>7.07</td>\n",
       "      <td>tCO2/kWa</td>\n",
       "    </tr>\n",
       "    <tr>\n",
       "      <th>3</th>\n",
       "      <td>Westeros</td>\n",
       "      <td>coal_ppl</td>\n",
       "      <td>700</td>\n",
       "      <td>700</td>\n",
       "      <td>standard</td>\n",
       "      <td>CO2</td>\n",
       "      <td>7.07</td>\n",
       "      <td>tCO2/kWa</td>\n",
       "    </tr>\n",
       "    <tr>\n",
       "      <th>4</th>\n",
       "      <td>Westeros</td>\n",
       "      <td>coal_ppl</td>\n",
       "      <td>700</td>\n",
       "      <td>710</td>\n",
       "      <td>standard</td>\n",
       "      <td>CO2</td>\n",
       "      <td>7.07</td>\n",
       "      <td>tCO2/kWa</td>\n",
       "    </tr>\n",
       "    <tr>\n",
       "      <th>5</th>\n",
       "      <td>Westeros</td>\n",
       "      <td>coal_ppl</td>\n",
       "      <td>700</td>\n",
       "      <td>720</td>\n",
       "      <td>standard</td>\n",
       "      <td>CO2</td>\n",
       "      <td>7.07</td>\n",
       "      <td>tCO2/kWa</td>\n",
       "    </tr>\n",
       "    <tr>\n",
       "      <th>6</th>\n",
       "      <td>Westeros</td>\n",
       "      <td>coal_ppl</td>\n",
       "      <td>710</td>\n",
       "      <td>710</td>\n",
       "      <td>standard</td>\n",
       "      <td>CO2</td>\n",
       "      <td>7.07</td>\n",
       "      <td>tCO2/kWa</td>\n",
       "    </tr>\n",
       "    <tr>\n",
       "      <th>7</th>\n",
       "      <td>Westeros</td>\n",
       "      <td>coal_ppl</td>\n",
       "      <td>710</td>\n",
       "      <td>720</td>\n",
       "      <td>standard</td>\n",
       "      <td>CO2</td>\n",
       "      <td>7.07</td>\n",
       "      <td>tCO2/kWa</td>\n",
       "    </tr>\n",
       "    <tr>\n",
       "      <th>8</th>\n",
       "      <td>Westeros</td>\n",
       "      <td>coal_ppl</td>\n",
       "      <td>720</td>\n",
       "      <td>720</td>\n",
       "      <td>standard</td>\n",
       "      <td>CO2</td>\n",
       "      <td>7.07</td>\n",
       "      <td>tCO2/kWa</td>\n",
       "    </tr>\n",
       "    <tr>\n",
       "      <th>9</th>\n",
       "      <td>Westeros</td>\n",
       "      <td>ngcc_ppl</td>\n",
       "      <td>690</td>\n",
       "      <td>700</td>\n",
       "      <td>standard</td>\n",
       "      <td>CO2</td>\n",
       "      <td>3.11</td>\n",
       "      <td>tCO2/kWa</td>\n",
       "    </tr>\n",
       "    <tr>\n",
       "      <th>10</th>\n",
       "      <td>Westeros</td>\n",
       "      <td>ngcc_ppl</td>\n",
       "      <td>690</td>\n",
       "      <td>710</td>\n",
       "      <td>standard</td>\n",
       "      <td>CO2</td>\n",
       "      <td>3.11</td>\n",
       "      <td>tCO2/kWa</td>\n",
       "    </tr>\n",
       "    <tr>\n",
       "      <th>11</th>\n",
       "      <td>Westeros</td>\n",
       "      <td>ngcc_ppl</td>\n",
       "      <td>690</td>\n",
       "      <td>720</td>\n",
       "      <td>standard</td>\n",
       "      <td>CO2</td>\n",
       "      <td>3.11</td>\n",
       "      <td>tCO2/kWa</td>\n",
       "    </tr>\n",
       "    <tr>\n",
       "      <th>12</th>\n",
       "      <td>Westeros</td>\n",
       "      <td>ngcc_ppl</td>\n",
       "      <td>700</td>\n",
       "      <td>700</td>\n",
       "      <td>standard</td>\n",
       "      <td>CO2</td>\n",
       "      <td>3.11</td>\n",
       "      <td>tCO2/kWa</td>\n",
       "    </tr>\n",
       "    <tr>\n",
       "      <th>13</th>\n",
       "      <td>Westeros</td>\n",
       "      <td>ngcc_ppl</td>\n",
       "      <td>700</td>\n",
       "      <td>710</td>\n",
       "      <td>standard</td>\n",
       "      <td>CO2</td>\n",
       "      <td>3.11</td>\n",
       "      <td>tCO2/kWa</td>\n",
       "    </tr>\n",
       "    <tr>\n",
       "      <th>14</th>\n",
       "      <td>Westeros</td>\n",
       "      <td>ngcc_ppl</td>\n",
       "      <td>700</td>\n",
       "      <td>720</td>\n",
       "      <td>standard</td>\n",
       "      <td>CO2</td>\n",
       "      <td>3.11</td>\n",
       "      <td>tCO2/kWa</td>\n",
       "    </tr>\n",
       "    <tr>\n",
       "      <th>15</th>\n",
       "      <td>Westeros</td>\n",
       "      <td>ngcc_ppl</td>\n",
       "      <td>710</td>\n",
       "      <td>710</td>\n",
       "      <td>standard</td>\n",
       "      <td>CO2</td>\n",
       "      <td>3.11</td>\n",
       "      <td>tCO2/kWa</td>\n",
       "    </tr>\n",
       "    <tr>\n",
       "      <th>16</th>\n",
       "      <td>Westeros</td>\n",
       "      <td>ngcc_ppl</td>\n",
       "      <td>710</td>\n",
       "      <td>720</td>\n",
       "      <td>standard</td>\n",
       "      <td>CO2</td>\n",
       "      <td>3.11</td>\n",
       "      <td>tCO2/kWa</td>\n",
       "    </tr>\n",
       "    <tr>\n",
       "      <th>17</th>\n",
       "      <td>Westeros</td>\n",
       "      <td>ngcc_ppl</td>\n",
       "      <td>720</td>\n",
       "      <td>720</td>\n",
       "      <td>standard</td>\n",
       "      <td>CO2</td>\n",
       "      <td>3.11</td>\n",
       "      <td>tCO2/kWa</td>\n",
       "    </tr>\n",
       "    <tr>\n",
       "      <th>18</th>\n",
       "      <td>Westeros</td>\n",
       "      <td>wind_ppl</td>\n",
       "      <td>690</td>\n",
       "      <td>700</td>\n",
       "      <td>standard</td>\n",
       "      <td>CO2</td>\n",
       "      <td>0.00</td>\n",
       "      <td>tCO2/kWa</td>\n",
       "    </tr>\n",
       "    <tr>\n",
       "      <th>19</th>\n",
       "      <td>Westeros</td>\n",
       "      <td>wind_ppl</td>\n",
       "      <td>690</td>\n",
       "      <td>710</td>\n",
       "      <td>standard</td>\n",
       "      <td>CO2</td>\n",
       "      <td>0.00</td>\n",
       "      <td>tCO2/kWa</td>\n",
       "    </tr>\n",
       "    <tr>\n",
       "      <th>20</th>\n",
       "      <td>Westeros</td>\n",
       "      <td>wind_ppl</td>\n",
       "      <td>690</td>\n",
       "      <td>720</td>\n",
       "      <td>standard</td>\n",
       "      <td>CO2</td>\n",
       "      <td>0.00</td>\n",
       "      <td>tCO2/kWa</td>\n",
       "    </tr>\n",
       "    <tr>\n",
       "      <th>21</th>\n",
       "      <td>Westeros</td>\n",
       "      <td>wind_ppl</td>\n",
       "      <td>700</td>\n",
       "      <td>700</td>\n",
       "      <td>standard</td>\n",
       "      <td>CO2</td>\n",
       "      <td>0.00</td>\n",
       "      <td>tCO2/kWa</td>\n",
       "    </tr>\n",
       "    <tr>\n",
       "      <th>22</th>\n",
       "      <td>Westeros</td>\n",
       "      <td>wind_ppl</td>\n",
       "      <td>700</td>\n",
       "      <td>710</td>\n",
       "      <td>standard</td>\n",
       "      <td>CO2</td>\n",
       "      <td>0.00</td>\n",
       "      <td>tCO2/kWa</td>\n",
       "    </tr>\n",
       "    <tr>\n",
       "      <th>23</th>\n",
       "      <td>Westeros</td>\n",
       "      <td>wind_ppl</td>\n",
       "      <td>700</td>\n",
       "      <td>720</td>\n",
       "      <td>standard</td>\n",
       "      <td>CO2</td>\n",
       "      <td>0.00</td>\n",
       "      <td>tCO2/kWa</td>\n",
       "    </tr>\n",
       "    <tr>\n",
       "      <th>24</th>\n",
       "      <td>Westeros</td>\n",
       "      <td>wind_ppl</td>\n",
       "      <td>710</td>\n",
       "      <td>710</td>\n",
       "      <td>standard</td>\n",
       "      <td>CO2</td>\n",
       "      <td>0.00</td>\n",
       "      <td>tCO2/kWa</td>\n",
       "    </tr>\n",
       "    <tr>\n",
       "      <th>25</th>\n",
       "      <td>Westeros</td>\n",
       "      <td>wind_ppl</td>\n",
       "      <td>710</td>\n",
       "      <td>720</td>\n",
       "      <td>standard</td>\n",
       "      <td>CO2</td>\n",
       "      <td>0.00</td>\n",
       "      <td>tCO2/kWa</td>\n",
       "    </tr>\n",
       "    <tr>\n",
       "      <th>26</th>\n",
       "      <td>Westeros</td>\n",
       "      <td>wind_ppl</td>\n",
       "      <td>720</td>\n",
       "      <td>720</td>\n",
       "      <td>standard</td>\n",
       "      <td>CO2</td>\n",
       "      <td>0.00</td>\n",
       "      <td>tCO2/kWa</td>\n",
       "    </tr>\n",
       "  </tbody>\n",
       "</table>\n",
       "</div>"
      ],
      "text/plain": [
       "    node_loc technology  year_vtg  year_act      mode emission  value  \\\n",
       "0   Westeros   coal_ppl       690       700  standard      CO2   7.07   \n",
       "1   Westeros   coal_ppl       690       710  standard      CO2   7.07   \n",
       "2   Westeros   coal_ppl       690       720  standard      CO2   7.07   \n",
       "3   Westeros   coal_ppl       700       700  standard      CO2   7.07   \n",
       "4   Westeros   coal_ppl       700       710  standard      CO2   7.07   \n",
       "5   Westeros   coal_ppl       700       720  standard      CO2   7.07   \n",
       "6   Westeros   coal_ppl       710       710  standard      CO2   7.07   \n",
       "7   Westeros   coal_ppl       710       720  standard      CO2   7.07   \n",
       "8   Westeros   coal_ppl       720       720  standard      CO2   7.07   \n",
       "9   Westeros   ngcc_ppl       690       700  standard      CO2   3.11   \n",
       "10  Westeros   ngcc_ppl       690       710  standard      CO2   3.11   \n",
       "11  Westeros   ngcc_ppl       690       720  standard      CO2   3.11   \n",
       "12  Westeros   ngcc_ppl       700       700  standard      CO2   3.11   \n",
       "13  Westeros   ngcc_ppl       700       710  standard      CO2   3.11   \n",
       "14  Westeros   ngcc_ppl       700       720  standard      CO2   3.11   \n",
       "15  Westeros   ngcc_ppl       710       710  standard      CO2   3.11   \n",
       "16  Westeros   ngcc_ppl       710       720  standard      CO2   3.11   \n",
       "17  Westeros   ngcc_ppl       720       720  standard      CO2   3.11   \n",
       "18  Westeros   wind_ppl       690       700  standard      CO2   0.00   \n",
       "19  Westeros   wind_ppl       690       710  standard      CO2   0.00   \n",
       "20  Westeros   wind_ppl       690       720  standard      CO2   0.00   \n",
       "21  Westeros   wind_ppl       700       700  standard      CO2   0.00   \n",
       "22  Westeros   wind_ppl       700       710  standard      CO2   0.00   \n",
       "23  Westeros   wind_ppl       700       720  standard      CO2   0.00   \n",
       "24  Westeros   wind_ppl       710       710  standard      CO2   0.00   \n",
       "25  Westeros   wind_ppl       710       720  standard      CO2   0.00   \n",
       "26  Westeros   wind_ppl       720       720  standard      CO2   0.00   \n",
       "\n",
       "        unit  \n",
       "0   tCO2/kWa  \n",
       "1   tCO2/kWa  \n",
       "2   tCO2/kWa  \n",
       "3   tCO2/kWa  \n",
       "4   tCO2/kWa  \n",
       "5   tCO2/kWa  \n",
       "6   tCO2/kWa  \n",
       "7   tCO2/kWa  \n",
       "8   tCO2/kWa  \n",
       "9   tCO2/kWa  \n",
       "10  tCO2/kWa  \n",
       "11  tCO2/kWa  \n",
       "12  tCO2/kWa  \n",
       "13  tCO2/kWa  \n",
       "14  tCO2/kWa  \n",
       "15  tCO2/kWa  \n",
       "16  tCO2/kWa  \n",
       "17  tCO2/kWa  \n",
       "18  tCO2/kWa  \n",
       "19  tCO2/kWa  \n",
       "20  tCO2/kWa  \n",
       "21  tCO2/kWa  \n",
       "22  tCO2/kWa  \n",
       "23  tCO2/kWa  \n",
       "24  tCO2/kWa  \n",
       "25  tCO2/kWa  \n",
       "26  tCO2/kWa  "
      ]
     },
     "execution_count": 9,
     "metadata": {},
     "output_type": "execute_result"
    }
   ],
   "source": [
    "scen_em3.par('emission_factor')"
   ]
  },
  {
   "cell_type": "markdown",
   "id": "e37ebb65",
   "metadata": {},
   "source": [
    "Solving the model"
   ]
  },
  {
   "cell_type": "code",
   "execution_count": 10,
   "id": "c80860ae",
   "metadata": {},
   "outputs": [],
   "source": [
    "scen_em3.commit(comment='introducing emissions and setting an upper bound')\n",
    "scen_em3.set_as_default()"
   ]
  },
  {
   "cell_type": "code",
   "execution_count": 11,
   "id": "857b5f51",
   "metadata": {},
   "outputs": [],
   "source": [
    "scen_em3.solve()"
   ]
  },
  {
   "cell_type": "code",
   "execution_count": 12,
   "id": "579bebb1",
   "metadata": {},
   "outputs": [
    {
     "data": {
      "text/plain": [
       "455626.65625"
      ]
     },
     "execution_count": 12,
     "metadata": {},
     "output_type": "execute_result"
    }
   ],
   "source": [
    "scen_em3.var('OBJ')['lvl']"
   ]
  },
  {
   "cell_type": "markdown",
   "id": "52dbd129",
   "metadata": {},
   "source": [
    "Plotting the results"
   ]
  },
  {
   "cell_type": "code",
   "execution_count": 13,
   "id": "7f8de0b2",
   "metadata": {},
   "outputs": [],
   "source": [
    "from message_ix.reporting import Reporter\n",
    "from message_ix.util.tutorial import prepare_plots\n",
    "\n",
    "rep = Reporter.from_scenario(scen_em3)\n",
    "prepare_plots(rep)"
   ]
  },
  {
   "cell_type": "markdown",
   "id": "f027db7b",
   "metadata": {},
   "source": [
    "Activity"
   ]
  },
  {
   "cell_type": "code",
   "execution_count": 14,
   "id": "31610012",
   "metadata": {
    "scrolled": true
   },
   "outputs": [
    {
     "data": {
      "text/plain": [
       "<AxesSubplot:title={'center':'Westeros Energy System Activity'}, xlabel='Year', ylabel='GWa'>"
      ]
     },
     "execution_count": 14,
     "metadata": {},
     "output_type": "execute_result"
    },
    {
     "data": {
      "image/png": "[encoded data removed]",
      "text/plain": [
       "<Figure size 432x288 with 1 Axes>"
      ]
     },
     "metadata": {
      "needs_background": "light"
     },
     "output_type": "display_data"
    }
   ],
   "source": [
    "rep.set_filters(t=[\"coal_ppl\", \"wind_ppl\",\"ngcc_ppl\"])\n",
    "rep.get(\"plot activity\")"
   ]
  },
  {
   "cell_type": "markdown",
   "id": "ffc6313f",
   "metadata": {},
   "source": [
    "Capacity"
   ]
  },
  {
   "cell_type": "code",
   "execution_count": 15,
   "id": "69db698b",
   "metadata": {
    "scrolled": true
   },
   "outputs": [
    {
     "data": {
      "text/plain": [
       "<AxesSubplot:title={'center':'Westeros Energy System Capacity'}, xlabel='Year', ylabel='GW'>"
      ]
     },
     "execution_count": 15,
     "metadata": {},
     "output_type": "execute_result"
    },
    {
     "data": {
      "image/png": "[encoded data removed]",
      "text/plain": [
       "<Figure size 432x288 with 1 Axes>"
      ]
     },
     "metadata": {
      "needs_background": "light"
     },
     "output_type": "display_data"
    }
   ],
   "source": [
    "rep.get(\"plot capacity\")"
   ]
  },
  {
   "cell_type": "markdown",
   "id": "dcaaa9fd",
   "metadata": {},
   "source": [
    "Electricy price"
   ]
  },
  {
   "cell_type": "code",
   "execution_count": 16,
   "id": "4de8c05b",
   "metadata": {},
   "outputs": [
    {
     "data": {
      "text/plain": [
       "<AxesSubplot:title={'center':'Westeros Energy System Prices'}, xlabel='Year', ylabel='¢/kW·h'>"
      ]
     },
     "execution_count": 16,
     "metadata": {},
     "output_type": "execute_result"
    },
    {
     "data": {
      "image/png": "[encoded data removed]",
      "text/plain": [
       "<Figure size 432x288 with 1 Axes>"
      ]
     },
     "metadata": {
      "needs_background": "light"
     },
     "output_type": "display_data"
    }
   ],
   "source": [
    "rep.set_filters(t=None, c=[\"light\"])\n",
    "rep.get(\"plot prices\")"
   ]
  },
  {
   "cell_type": "markdown",
   "id": "8ad12fd0",
   "metadata": {},
   "source": [
    "# Comments on the results\n",
    "\n",
    "With respect to the scenario energy mix 1:\n",
    "- total cost is considerably higher, 455626.65625 against 408462.5625\n",
    "- Wind technology is considerably increased in second decade and present in the third decade, even if with an activity lower than previous decade (gas has longer lifetime).\n",
    "- Coal technology activity stops before the first decade even ends, being replaced mainly by gas in first and third decade, and with a strong contribution by wind in the second one\n",
    "- Gas technology is overall leading the electricity supply.\n",
    "- Electricity price is approximately constant at about 4.5 ¢/kW·h.\n",
    "\n",
    "With this strict cap the overall system cost is considerably higher, and coal is excluded from the energy mix. Therefore, with the emission bound, the sweet spot is achieved with a cap of 600 MtCO2. \n",
    "\n",
    "In the next scenario it will be explored a different method of limiting emission, that is the carbon tax, and the existence of a 'sweet spot carbon price' will be explored."
   ]
  },
  {
   "cell_type": "markdown",
   "id": "a54deb81",
   "metadata": {},
   "source": [
    "Close connection to the database"
   ]
  },
  {
   "cell_type": "code",
   "execution_count": 17,
   "id": "32f4fe60",
   "metadata": {},
   "outputs": [],
   "source": [
    "mp.close_db()"
   ]
  }
 ],
 "metadata": {
  "kernelspec": {
   "display_name": "Python [conda env:message_env] *",
   "language": "python",
   "name": "conda-env-message_env-py"
  },
  "language_info": {
   "codemirror_mode": {
    "name": "ipython",
    "version": 3
   },
   "file_extension": ".py",
   "mimetype": "text/x-python",
   "name": "python",
   "nbconvert_exporter": "python",
   "pygments_lexer": "ipython3",
   "version": "3.8.10"
  }
 },
 "nbformat": 4,
 "nbformat_minor": 5
}
