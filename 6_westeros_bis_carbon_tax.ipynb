{
 "cells": [
  {
   "cell_type": "markdown",
   "id": "82264e30",
   "metadata": {},
   "source": [
    "# Westeros bis - emissions introduction and analysis\n",
    "\n",
    "In this scenario, a fixed carbon price will be implemented as a market-based method for limiting emission alternative to emissions cap (reference scenario ``westeros_bis_emissions_cap2.ipynb``), and the existence of a 'sweet spot carbon price' will be explored.\n",
    "\n",
    "The base for this scenario will be the ``westeros_bis_energymix1.ipynb``, with the implementation of:\n",
    "- emission impact of gas and coal\n",
    "- carbon tax.\n",
    "\n",
    "### Pre-requisites\n",
    "- You have the MESSAGEix framework installed and working\n",
    "- You have run (``westeros_bis_baseline.ipynb``) scenario and solved it successfully\n",
    "- You have run (``westeros_bis_energymix1.ipynb``) scenario"
   ]
  },
  {
   "cell_type": "code",
   "execution_count": 1,
   "id": "b017c530",
   "metadata": {},
   "outputs": [
    {
     "data": {
      "application/javascript": [
       "IPython.OutputArea.prototype._should_scroll = function(lines) { return false; }"
      ],
      "text/plain": [
       "<IPython.core.display.Javascript object>"
      ]
     },
     "metadata": {},
     "output_type": "display_data"
    }
   ],
   "source": [
    "import pandas as pd\n",
    "import ixmp\n",
    "import message_ix\n",
    "\n",
    "from message_ix.util import make_df\n",
    "\n",
    "%matplotlib inline"
   ]
  },
  {
   "cell_type": "code",
   "execution_count": 2,
   "id": "467f35da",
   "metadata": {},
   "outputs": [],
   "source": [
    "mp = ixmp.Platform()"
   ]
  },
  {
   "cell_type": "markdown",
   "id": "cb6d50d5",
   "metadata": {},
   "source": [
    "Recalling the model and the scenarios ``westeros_bis_energymix1.ipynb``"
   ]
  },
  {
   "cell_type": "code",
   "execution_count": 3,
   "id": "8f507eca",
   "metadata": {},
   "outputs": [],
   "source": [
    "model = 'Westeros Electrified'\n",
    "base = message_ix.Scenario(mp, model=model, scenario='energy mix1')"
   ]
  },
  {
   "cell_type": "markdown",
   "id": "e30b9505",
   "metadata": {},
   "source": [
    "Recalling ``westeros_bis_emission2.ipynb`` and plotting its emissions and carbon prices."
   ]
  },
  {
   "cell_type": "code",
   "execution_count": 4,
   "id": "050e39bb",
   "metadata": {},
   "outputs": [],
   "source": [
    "scen_em = message_ix.Scenario(mp, model=model, scenario='emissions2')"
   ]
  },
  {
   "cell_type": "code",
   "execution_count": 5,
   "id": "9c9dceb2",
   "metadata": {},
   "outputs": [
    {
     "data": {
      "text/html": [
       "<div>\n",
       "<style scoped>\n",
       "    .dataframe tbody tr th:only-of-type {\n",
       "        vertical-align: middle;\n",
       "    }\n",
       "\n",
       "    .dataframe tbody tr th {\n",
       "        vertical-align: top;\n",
       "    }\n",
       "\n",
       "    .dataframe thead th {\n",
       "        text-align: right;\n",
       "    }\n",
       "</style>\n",
       "<table border=\"1\" class=\"dataframe\">\n",
       "  <thead>\n",
       "    <tr style=\"text-align: right;\">\n",
       "      <th></th>\n",
       "      <th>node</th>\n",
       "      <th>emission</th>\n",
       "      <th>type_tec</th>\n",
       "      <th>year</th>\n",
       "      <th>lvl</th>\n",
       "      <th>mrg</th>\n",
       "    </tr>\n",
       "  </thead>\n",
       "  <tbody>\n",
       "    <tr>\n",
       "      <th>0</th>\n",
       "      <td>Westeros</td>\n",
       "      <td>CO2</td>\n",
       "      <td>all</td>\n",
       "      <td>700</td>\n",
       "      <td>463.083699</td>\n",
       "      <td>0.0</td>\n",
       "    </tr>\n",
       "    <tr>\n",
       "      <th>1</th>\n",
       "      <td>Westeros</td>\n",
       "      <td>CO2</td>\n",
       "      <td>all</td>\n",
       "      <td>710</td>\n",
       "      <td>659.578145</td>\n",
       "      <td>0.0</td>\n",
       "    </tr>\n",
       "    <tr>\n",
       "      <th>2</th>\n",
       "      <td>Westeros</td>\n",
       "      <td>CO2</td>\n",
       "      <td>all</td>\n",
       "      <td>720</td>\n",
       "      <td>677.338155</td>\n",
       "      <td>0.0</td>\n",
       "    </tr>\n",
       "  </tbody>\n",
       "</table>\n",
       "</div>"
      ],
      "text/plain": [
       "       node emission type_tec  year         lvl  mrg\n",
       "0  Westeros      CO2      all   700  463.083699  0.0\n",
       "1  Westeros      CO2      all   710  659.578145  0.0\n",
       "2  Westeros      CO2      all   720  677.338155  0.0"
      ]
     },
     "execution_count": 5,
     "metadata": {},
     "output_type": "execute_result"
    }
   ],
   "source": [
    "emissions = scen_em.var('EMISS', {'node': 'Westeros'})\n",
    "emissions"
   ]
  },
  {
   "cell_type": "code",
   "execution_count": 6,
   "id": "599b9fde",
   "metadata": {},
   "outputs": [
    {
     "data": {
      "text/html": [
       "<div>\n",
       "<style scoped>\n",
       "    .dataframe tbody tr th:only-of-type {\n",
       "        vertical-align: middle;\n",
       "    }\n",
       "\n",
       "    .dataframe tbody tr th {\n",
       "        vertical-align: top;\n",
       "    }\n",
       "\n",
       "    .dataframe thead th {\n",
       "        text-align: right;\n",
       "    }\n",
       "</style>\n",
       "<table border=\"1\" class=\"dataframe\">\n",
       "  <thead>\n",
       "    <tr style=\"text-align: right;\">\n",
       "      <th></th>\n",
       "      <th>node</th>\n",
       "      <th>type_emission</th>\n",
       "      <th>type_tec</th>\n",
       "      <th>year</th>\n",
       "      <th>lvl</th>\n",
       "      <th>mrg</th>\n",
       "    </tr>\n",
       "  </thead>\n",
       "  <tbody>\n",
       "    <tr>\n",
       "      <th>0</th>\n",
       "      <td>Westeros</td>\n",
       "      <td>GHG</td>\n",
       "      <td>all</td>\n",
       "      <td>700</td>\n",
       "      <td>10.339077</td>\n",
       "      <td>0.0</td>\n",
       "    </tr>\n",
       "    <tr>\n",
       "      <th>1</th>\n",
       "      <td>Westeros</td>\n",
       "      <td>GHG</td>\n",
       "      <td>all</td>\n",
       "      <td>710</td>\n",
       "      <td>16.841266</td>\n",
       "      <td>0.0</td>\n",
       "    </tr>\n",
       "    <tr>\n",
       "      <th>2</th>\n",
       "      <td>Westeros</td>\n",
       "      <td>GHG</td>\n",
       "      <td>all</td>\n",
       "      <td>720</td>\n",
       "      <td>27.432648</td>\n",
       "      <td>0.0</td>\n",
       "    </tr>\n",
       "  </tbody>\n",
       "</table>\n",
       "</div>"
      ],
      "text/plain": [
       "       node type_emission type_tec  year        lvl  mrg\n",
       "0  Westeros           GHG      all   700  10.339077  0.0\n",
       "1  Westeros           GHG      all   710  16.841266  0.0\n",
       "2  Westeros           GHG      all   720  27.432648  0.0"
      ]
     },
     "execution_count": 6,
     "metadata": {},
     "output_type": "execute_result"
    }
   ],
   "source": [
    "emission_prices = scen_em.var('PRICE_EMISSION')\n",
    "emission_prices"
   ]
  },
  {
   "cell_type": "markdown",
   "id": "99ef9c84",
   "metadata": {},
   "source": [
    "Creating ``westeros_bis_carbon_tax.ipynb`` scenario by cloning ``westeros_bis_energymix1.ipynb``"
   ]
  },
  {
   "cell_type": "code",
   "execution_count": 7,
   "id": "87e3f44a",
   "metadata": {},
   "outputs": [],
   "source": [
    "scen_tax = base.clone(model, 'carbon tax','adding price of carbon',\n",
    "                  keep_solution=False)\n",
    "scen_tax.check_out()"
   ]
  },
  {
   "cell_type": "code",
   "execution_count": 8,
   "id": "5f571a63",
   "metadata": {},
   "outputs": [],
   "source": [
    "year_df = scen_tax.vintage_and_active_years()\n",
    "vintage_years, act_years = year_df['year_vtg'], year_df['year_act']\n",
    "model_horizon = scen_tax.set('year') \n",
    "country = 'Westeros'"
   ]
  },
  {
   "cell_type": "markdown",
   "id": "315057d5",
   "metadata": {},
   "source": [
    "We will now introduce\n",
    "- emission of CO2\n",
    "- emission category GHG\n",
    "- emission factors defined in ``westeros_bis_emissons_capX.ipynb`` scenarios."
   ]
  },
  {
   "cell_type": "code",
   "execution_count": 9,
   "id": "b8e199aa",
   "metadata": {},
   "outputs": [
    {
     "data": {
      "text/html": [
       "<div>\n",
       "<style scoped>\n",
       "    .dataframe tbody tr th:only-of-type {\n",
       "        vertical-align: middle;\n",
       "    }\n",
       "\n",
       "    .dataframe tbody tr th {\n",
       "        vertical-align: top;\n",
       "    }\n",
       "\n",
       "    .dataframe thead th {\n",
       "        text-align: right;\n",
       "    }\n",
       "</style>\n",
       "<table border=\"1\" class=\"dataframe\">\n",
       "  <thead>\n",
       "    <tr style=\"text-align: right;\">\n",
       "      <th></th>\n",
       "      <th>node_loc</th>\n",
       "      <th>technology</th>\n",
       "      <th>year_vtg</th>\n",
       "      <th>year_act</th>\n",
       "      <th>mode</th>\n",
       "      <th>emission</th>\n",
       "      <th>value</th>\n",
       "      <th>unit</th>\n",
       "    </tr>\n",
       "  </thead>\n",
       "  <tbody>\n",
       "    <tr>\n",
       "      <th>0</th>\n",
       "      <td>Westeros</td>\n",
       "      <td>coal_ppl</td>\n",
       "      <td>690</td>\n",
       "      <td>700</td>\n",
       "      <td>standard</td>\n",
       "      <td>CO2</td>\n",
       "      <td>7.07</td>\n",
       "      <td>tCO2/kWa</td>\n",
       "    </tr>\n",
       "    <tr>\n",
       "      <th>1</th>\n",
       "      <td>Westeros</td>\n",
       "      <td>coal_ppl</td>\n",
       "      <td>690</td>\n",
       "      <td>710</td>\n",
       "      <td>standard</td>\n",
       "      <td>CO2</td>\n",
       "      <td>7.07</td>\n",
       "      <td>tCO2/kWa</td>\n",
       "    </tr>\n",
       "    <tr>\n",
       "      <th>2</th>\n",
       "      <td>Westeros</td>\n",
       "      <td>coal_ppl</td>\n",
       "      <td>690</td>\n",
       "      <td>720</td>\n",
       "      <td>standard</td>\n",
       "      <td>CO2</td>\n",
       "      <td>7.07</td>\n",
       "      <td>tCO2/kWa</td>\n",
       "    </tr>\n",
       "    <tr>\n",
       "      <th>3</th>\n",
       "      <td>Westeros</td>\n",
       "      <td>coal_ppl</td>\n",
       "      <td>700</td>\n",
       "      <td>700</td>\n",
       "      <td>standard</td>\n",
       "      <td>CO2</td>\n",
       "      <td>7.07</td>\n",
       "      <td>tCO2/kWa</td>\n",
       "    </tr>\n",
       "    <tr>\n",
       "      <th>4</th>\n",
       "      <td>Westeros</td>\n",
       "      <td>coal_ppl</td>\n",
       "      <td>700</td>\n",
       "      <td>710</td>\n",
       "      <td>standard</td>\n",
       "      <td>CO2</td>\n",
       "      <td>7.07</td>\n",
       "      <td>tCO2/kWa</td>\n",
       "    </tr>\n",
       "    <tr>\n",
       "      <th>5</th>\n",
       "      <td>Westeros</td>\n",
       "      <td>coal_ppl</td>\n",
       "      <td>700</td>\n",
       "      <td>720</td>\n",
       "      <td>standard</td>\n",
       "      <td>CO2</td>\n",
       "      <td>7.07</td>\n",
       "      <td>tCO2/kWa</td>\n",
       "    </tr>\n",
       "    <tr>\n",
       "      <th>6</th>\n",
       "      <td>Westeros</td>\n",
       "      <td>coal_ppl</td>\n",
       "      <td>710</td>\n",
       "      <td>710</td>\n",
       "      <td>standard</td>\n",
       "      <td>CO2</td>\n",
       "      <td>7.07</td>\n",
       "      <td>tCO2/kWa</td>\n",
       "    </tr>\n",
       "    <tr>\n",
       "      <th>7</th>\n",
       "      <td>Westeros</td>\n",
       "      <td>coal_ppl</td>\n",
       "      <td>710</td>\n",
       "      <td>720</td>\n",
       "      <td>standard</td>\n",
       "      <td>CO2</td>\n",
       "      <td>7.07</td>\n",
       "      <td>tCO2/kWa</td>\n",
       "    </tr>\n",
       "    <tr>\n",
       "      <th>8</th>\n",
       "      <td>Westeros</td>\n",
       "      <td>coal_ppl</td>\n",
       "      <td>720</td>\n",
       "      <td>720</td>\n",
       "      <td>standard</td>\n",
       "      <td>CO2</td>\n",
       "      <td>7.07</td>\n",
       "      <td>tCO2/kWa</td>\n",
       "    </tr>\n",
       "    <tr>\n",
       "      <th>9</th>\n",
       "      <td>Westeros</td>\n",
       "      <td>ngcc_ppl</td>\n",
       "      <td>690</td>\n",
       "      <td>700</td>\n",
       "      <td>standard</td>\n",
       "      <td>CO2</td>\n",
       "      <td>3.11</td>\n",
       "      <td>tCO2/kWa</td>\n",
       "    </tr>\n",
       "    <tr>\n",
       "      <th>10</th>\n",
       "      <td>Westeros</td>\n",
       "      <td>ngcc_ppl</td>\n",
       "      <td>690</td>\n",
       "      <td>710</td>\n",
       "      <td>standard</td>\n",
       "      <td>CO2</td>\n",
       "      <td>3.11</td>\n",
       "      <td>tCO2/kWa</td>\n",
       "    </tr>\n",
       "    <tr>\n",
       "      <th>11</th>\n",
       "      <td>Westeros</td>\n",
       "      <td>ngcc_ppl</td>\n",
       "      <td>690</td>\n",
       "      <td>720</td>\n",
       "      <td>standard</td>\n",
       "      <td>CO2</td>\n",
       "      <td>3.11</td>\n",
       "      <td>tCO2/kWa</td>\n",
       "    </tr>\n",
       "    <tr>\n",
       "      <th>12</th>\n",
       "      <td>Westeros</td>\n",
       "      <td>ngcc_ppl</td>\n",
       "      <td>700</td>\n",
       "      <td>700</td>\n",
       "      <td>standard</td>\n",
       "      <td>CO2</td>\n",
       "      <td>3.11</td>\n",
       "      <td>tCO2/kWa</td>\n",
       "    </tr>\n",
       "    <tr>\n",
       "      <th>13</th>\n",
       "      <td>Westeros</td>\n",
       "      <td>ngcc_ppl</td>\n",
       "      <td>700</td>\n",
       "      <td>710</td>\n",
       "      <td>standard</td>\n",
       "      <td>CO2</td>\n",
       "      <td>3.11</td>\n",
       "      <td>tCO2/kWa</td>\n",
       "    </tr>\n",
       "    <tr>\n",
       "      <th>14</th>\n",
       "      <td>Westeros</td>\n",
       "      <td>ngcc_ppl</td>\n",
       "      <td>700</td>\n",
       "      <td>720</td>\n",
       "      <td>standard</td>\n",
       "      <td>CO2</td>\n",
       "      <td>3.11</td>\n",
       "      <td>tCO2/kWa</td>\n",
       "    </tr>\n",
       "    <tr>\n",
       "      <th>15</th>\n",
       "      <td>Westeros</td>\n",
       "      <td>ngcc_ppl</td>\n",
       "      <td>710</td>\n",
       "      <td>710</td>\n",
       "      <td>standard</td>\n",
       "      <td>CO2</td>\n",
       "      <td>3.11</td>\n",
       "      <td>tCO2/kWa</td>\n",
       "    </tr>\n",
       "    <tr>\n",
       "      <th>16</th>\n",
       "      <td>Westeros</td>\n",
       "      <td>ngcc_ppl</td>\n",
       "      <td>710</td>\n",
       "      <td>720</td>\n",
       "      <td>standard</td>\n",
       "      <td>CO2</td>\n",
       "      <td>3.11</td>\n",
       "      <td>tCO2/kWa</td>\n",
       "    </tr>\n",
       "    <tr>\n",
       "      <th>17</th>\n",
       "      <td>Westeros</td>\n",
       "      <td>ngcc_ppl</td>\n",
       "      <td>720</td>\n",
       "      <td>720</td>\n",
       "      <td>standard</td>\n",
       "      <td>CO2</td>\n",
       "      <td>3.11</td>\n",
       "      <td>tCO2/kWa</td>\n",
       "    </tr>\n",
       "    <tr>\n",
       "      <th>18</th>\n",
       "      <td>Westeros</td>\n",
       "      <td>wind_ppl</td>\n",
       "      <td>690</td>\n",
       "      <td>700</td>\n",
       "      <td>standard</td>\n",
       "      <td>CO2</td>\n",
       "      <td>0.00</td>\n",
       "      <td>tCO2/kWa</td>\n",
       "    </tr>\n",
       "    <tr>\n",
       "      <th>19</th>\n",
       "      <td>Westeros</td>\n",
       "      <td>wind_ppl</td>\n",
       "      <td>690</td>\n",
       "      <td>710</td>\n",
       "      <td>standard</td>\n",
       "      <td>CO2</td>\n",
       "      <td>0.00</td>\n",
       "      <td>tCO2/kWa</td>\n",
       "    </tr>\n",
       "    <tr>\n",
       "      <th>20</th>\n",
       "      <td>Westeros</td>\n",
       "      <td>wind_ppl</td>\n",
       "      <td>690</td>\n",
       "      <td>720</td>\n",
       "      <td>standard</td>\n",
       "      <td>CO2</td>\n",
       "      <td>0.00</td>\n",
       "      <td>tCO2/kWa</td>\n",
       "    </tr>\n",
       "    <tr>\n",
       "      <th>21</th>\n",
       "      <td>Westeros</td>\n",
       "      <td>wind_ppl</td>\n",
       "      <td>700</td>\n",
       "      <td>700</td>\n",
       "      <td>standard</td>\n",
       "      <td>CO2</td>\n",
       "      <td>0.00</td>\n",
       "      <td>tCO2/kWa</td>\n",
       "    </tr>\n",
       "    <tr>\n",
       "      <th>22</th>\n",
       "      <td>Westeros</td>\n",
       "      <td>wind_ppl</td>\n",
       "      <td>700</td>\n",
       "      <td>710</td>\n",
       "      <td>standard</td>\n",
       "      <td>CO2</td>\n",
       "      <td>0.00</td>\n",
       "      <td>tCO2/kWa</td>\n",
       "    </tr>\n",
       "    <tr>\n",
       "      <th>23</th>\n",
       "      <td>Westeros</td>\n",
       "      <td>wind_ppl</td>\n",
       "      <td>700</td>\n",
       "      <td>720</td>\n",
       "      <td>standard</td>\n",
       "      <td>CO2</td>\n",
       "      <td>0.00</td>\n",
       "      <td>tCO2/kWa</td>\n",
       "    </tr>\n",
       "    <tr>\n",
       "      <th>24</th>\n",
       "      <td>Westeros</td>\n",
       "      <td>wind_ppl</td>\n",
       "      <td>710</td>\n",
       "      <td>710</td>\n",
       "      <td>standard</td>\n",
       "      <td>CO2</td>\n",
       "      <td>0.00</td>\n",
       "      <td>tCO2/kWa</td>\n",
       "    </tr>\n",
       "    <tr>\n",
       "      <th>25</th>\n",
       "      <td>Westeros</td>\n",
       "      <td>wind_ppl</td>\n",
       "      <td>710</td>\n",
       "      <td>720</td>\n",
       "      <td>standard</td>\n",
       "      <td>CO2</td>\n",
       "      <td>0.00</td>\n",
       "      <td>tCO2/kWa</td>\n",
       "    </tr>\n",
       "    <tr>\n",
       "      <th>26</th>\n",
       "      <td>Westeros</td>\n",
       "      <td>wind_ppl</td>\n",
       "      <td>720</td>\n",
       "      <td>720</td>\n",
       "      <td>standard</td>\n",
       "      <td>CO2</td>\n",
       "      <td>0.00</td>\n",
       "      <td>tCO2/kWa</td>\n",
       "    </tr>\n",
       "  </tbody>\n",
       "</table>\n",
       "</div>"
      ],
      "text/plain": [
       "    node_loc technology  year_vtg  year_act      mode emission  value  \\\n",
       "0   Westeros   coal_ppl       690       700  standard      CO2   7.07   \n",
       "1   Westeros   coal_ppl       690       710  standard      CO2   7.07   \n",
       "2   Westeros   coal_ppl       690       720  standard      CO2   7.07   \n",
       "3   Westeros   coal_ppl       700       700  standard      CO2   7.07   \n",
       "4   Westeros   coal_ppl       700       710  standard      CO2   7.07   \n",
       "5   Westeros   coal_ppl       700       720  standard      CO2   7.07   \n",
       "6   Westeros   coal_ppl       710       710  standard      CO2   7.07   \n",
       "7   Westeros   coal_ppl       710       720  standard      CO2   7.07   \n",
       "8   Westeros   coal_ppl       720       720  standard      CO2   7.07   \n",
       "9   Westeros   ngcc_ppl       690       700  standard      CO2   3.11   \n",
       "10  Westeros   ngcc_ppl       690       710  standard      CO2   3.11   \n",
       "11  Westeros   ngcc_ppl       690       720  standard      CO2   3.11   \n",
       "12  Westeros   ngcc_ppl       700       700  standard      CO2   3.11   \n",
       "13  Westeros   ngcc_ppl       700       710  standard      CO2   3.11   \n",
       "14  Westeros   ngcc_ppl       700       720  standard      CO2   3.11   \n",
       "15  Westeros   ngcc_ppl       710       710  standard      CO2   3.11   \n",
       "16  Westeros   ngcc_ppl       710       720  standard      CO2   3.11   \n",
       "17  Westeros   ngcc_ppl       720       720  standard      CO2   3.11   \n",
       "18  Westeros   wind_ppl       690       700  standard      CO2   0.00   \n",
       "19  Westeros   wind_ppl       690       710  standard      CO2   0.00   \n",
       "20  Westeros   wind_ppl       690       720  standard      CO2   0.00   \n",
       "21  Westeros   wind_ppl       700       700  standard      CO2   0.00   \n",
       "22  Westeros   wind_ppl       700       710  standard      CO2   0.00   \n",
       "23  Westeros   wind_ppl       700       720  standard      CO2   0.00   \n",
       "24  Westeros   wind_ppl       710       710  standard      CO2   0.00   \n",
       "25  Westeros   wind_ppl       710       720  standard      CO2   0.00   \n",
       "26  Westeros   wind_ppl       720       720  standard      CO2   0.00   \n",
       "\n",
       "        unit  \n",
       "0   tCO2/kWa  \n",
       "1   tCO2/kWa  \n",
       "2   tCO2/kWa  \n",
       "3   tCO2/kWa  \n",
       "4   tCO2/kWa  \n",
       "5   tCO2/kWa  \n",
       "6   tCO2/kWa  \n",
       "7   tCO2/kWa  \n",
       "8   tCO2/kWa  \n",
       "9   tCO2/kWa  \n",
       "10  tCO2/kWa  \n",
       "11  tCO2/kWa  \n",
       "12  tCO2/kWa  \n",
       "13  tCO2/kWa  \n",
       "14  tCO2/kWa  \n",
       "15  tCO2/kWa  \n",
       "16  tCO2/kWa  \n",
       "17  tCO2/kWa  \n",
       "18  tCO2/kWa  \n",
       "19  tCO2/kWa  \n",
       "20  tCO2/kWa  \n",
       "21  tCO2/kWa  \n",
       "22  tCO2/kWa  \n",
       "23  tCO2/kWa  \n",
       "24  tCO2/kWa  \n",
       "25  tCO2/kWa  \n",
       "26  tCO2/kWa  "
      ]
     },
     "execution_count": 9,
     "metadata": {},
     "output_type": "execute_result"
    }
   ],
   "source": [
    "scen_tax.add_set('emission', 'CO2')\n",
    "scen_tax.add_cat('emission', 'GHG', 'CO2')\n",
    "scen_tax.add_par('emission_factor', scen_em.par('emission_factor'))\n",
    "scen_tax.par('emission_factor')"
   ]
  },
  {
   "cell_type": "markdown",
   "id": "6cd186db",
   "metadata": {},
   "source": [
    "Introducing a fixed carbon tax"
   ]
  },
  {
   "cell_type": "code",
   "execution_count": 10,
   "id": "8b4094dc",
   "metadata": {},
   "outputs": [
    {
     "name": "stderr",
     "output_type": "stream",
     "text": [
      "INFO:root:unit `USD/tCO2` is already defined in the platform instance\n"
     ]
    },
    {
     "data": {
      "text/html": [
       "<div>\n",
       "<style scoped>\n",
       "    .dataframe tbody tr th:only-of-type {\n",
       "        vertical-align: middle;\n",
       "    }\n",
       "\n",
       "    .dataframe tbody tr th {\n",
       "        vertical-align: top;\n",
       "    }\n",
       "\n",
       "    .dataframe thead th {\n",
       "        text-align: right;\n",
       "    }\n",
       "</style>\n",
       "<table border=\"1\" class=\"dataframe\">\n",
       "  <thead>\n",
       "    <tr style=\"text-align: right;\">\n",
       "      <th></th>\n",
       "      <th>node</th>\n",
       "      <th>type_emission</th>\n",
       "      <th>type_tec</th>\n",
       "      <th>type_year</th>\n",
       "      <th>value</th>\n",
       "      <th>unit</th>\n",
       "    </tr>\n",
       "  </thead>\n",
       "  <tbody>\n",
       "    <tr>\n",
       "      <th>0</th>\n",
       "      <td>Westeros</td>\n",
       "      <td>GHG</td>\n",
       "      <td>all</td>\n",
       "      <td>700</td>\n",
       "      <td>21.0</td>\n",
       "      <td>USD/tCO2</td>\n",
       "    </tr>\n",
       "    <tr>\n",
       "      <th>1</th>\n",
       "      <td>Westeros</td>\n",
       "      <td>GHG</td>\n",
       "      <td>all</td>\n",
       "      <td>710</td>\n",
       "      <td>21.0</td>\n",
       "      <td>USD/tCO2</td>\n",
       "    </tr>\n",
       "    <tr>\n",
       "      <th>2</th>\n",
       "      <td>Westeros</td>\n",
       "      <td>GHG</td>\n",
       "      <td>all</td>\n",
       "      <td>720</td>\n",
       "      <td>21.0</td>\n",
       "      <td>USD/tCO2</td>\n",
       "    </tr>\n",
       "  </tbody>\n",
       "</table>\n",
       "</div>"
      ],
      "text/plain": [
       "       node type_emission type_tec type_year  value      unit\n",
       "0  Westeros           GHG      all       700   21.0  USD/tCO2\n",
       "1  Westeros           GHG      all       710   21.0  USD/tCO2\n",
       "2  Westeros           GHG      all       720   21.0  USD/tCO2"
      ]
     },
     "execution_count": 10,
     "metadata": {},
     "output_type": "execute_result"
    }
   ],
   "source": [
    "scen_tax.add_set('type_year', [700, 710, 720])\n",
    "\n",
    "base_tax_emission = {\n",
    "    'node': 'Westeros',\n",
    "    'type_year': [700, 710, 720],\n",
    "    'type_tec': 'all',\n",
    "    'unit': 'USD/tCO2',\n",
    "    'type_emission': 'GHG',\n",
    "    'value': 21, ################################### key line of the scenario!#######################################à\n",
    "}\n",
    "\n",
    "# in case you need to add the new unit to the platform\n",
    "mp.add_unit('USD/tCO2')\n",
    "\n",
    "tax_emission = make_df(base_tax_emission)\n",
    "scen_tax.add_par('tax_emission', tax_emission)\n",
    "scen_tax.par('tax_emission')"
   ]
  },
  {
   "cell_type": "markdown",
   "id": "e37ebb65",
   "metadata": {},
   "source": [
    "Solving the model"
   ]
  },
  {
   "cell_type": "code",
   "execution_count": 11,
   "id": "c80860ae",
   "metadata": {},
   "outputs": [],
   "source": [
    "scen_tax.commit(comment='introducing price on emissions')\n",
    "scen_tax.set_as_default()"
   ]
  },
  {
   "cell_type": "code",
   "execution_count": 12,
   "id": "857b5f51",
   "metadata": {},
   "outputs": [],
   "source": [
    "scen_tax.solve()"
   ]
  },
  {
   "cell_type": "code",
   "execution_count": 13,
   "id": "579bebb1",
   "metadata": {},
   "outputs": [
    {
     "data": {
      "text/plain": [
       "602933.5625"
      ]
     },
     "execution_count": 13,
     "metadata": {},
     "output_type": "execute_result"
    }
   ],
   "source": [
    "scen_tax.var('OBJ')['lvl']"
   ]
  },
  {
   "cell_type": "code",
   "execution_count": 14,
   "id": "cb298950",
   "metadata": {},
   "outputs": [
    {
     "data": {
      "text/html": [
       "<div>\n",
       "<style scoped>\n",
       "    .dataframe tbody tr th:only-of-type {\n",
       "        vertical-align: middle;\n",
       "    }\n",
       "\n",
       "    .dataframe tbody tr th {\n",
       "        vertical-align: top;\n",
       "    }\n",
       "\n",
       "    .dataframe thead th {\n",
       "        text-align: right;\n",
       "    }\n",
       "</style>\n",
       "<table border=\"1\" class=\"dataframe\">\n",
       "  <thead>\n",
       "    <tr style=\"text-align: right;\">\n",
       "      <th></th>\n",
       "      <th>node</th>\n",
       "      <th>emission</th>\n",
       "      <th>type_tec</th>\n",
       "      <th>year</th>\n",
       "      <th>lvl</th>\n",
       "      <th>mrg</th>\n",
       "    </tr>\n",
       "  </thead>\n",
       "  <tbody>\n",
       "    <tr>\n",
       "      <th>0</th>\n",
       "      <td>Westeros</td>\n",
       "      <td>CO2</td>\n",
       "      <td>all</td>\n",
       "      <td>700</td>\n",
       "      <td>299.653239</td>\n",
       "      <td>0.0</td>\n",
       "    </tr>\n",
       "    <tr>\n",
       "      <th>1</th>\n",
       "      <td>Westeros</td>\n",
       "      <td>CO2</td>\n",
       "      <td>all</td>\n",
       "      <td>710</td>\n",
       "      <td>432.713670</td>\n",
       "      <td>0.0</td>\n",
       "    </tr>\n",
       "    <tr>\n",
       "      <th>2</th>\n",
       "      <td>Westeros</td>\n",
       "      <td>CO2</td>\n",
       "      <td>all</td>\n",
       "      <td>720</td>\n",
       "      <td>613.904141</td>\n",
       "      <td>0.0</td>\n",
       "    </tr>\n",
       "  </tbody>\n",
       "</table>\n",
       "</div>"
      ],
      "text/plain": [
       "       node emission type_tec  year         lvl  mrg\n",
       "0  Westeros      CO2      all   700  299.653239  0.0\n",
       "1  Westeros      CO2      all   710  432.713670  0.0\n",
       "2  Westeros      CO2      all   720  613.904141  0.0"
      ]
     },
     "execution_count": 14,
     "metadata": {},
     "output_type": "execute_result"
    }
   ],
   "source": [
    "scen_tax.var('EMISS', {'node': 'Westeros'})"
   ]
  },
  {
   "cell_type": "markdown",
   "id": "52dbd129",
   "metadata": {},
   "source": [
    "# Plotting the results"
   ]
  },
  {
   "cell_type": "code",
   "execution_count": 15,
   "id": "7f8de0b2",
   "metadata": {},
   "outputs": [],
   "source": [
    "from message_ix.reporting import Reporter\n",
    "from message_ix.util.tutorial import prepare_plots\n",
    "\n",
    "rep = Reporter.from_scenario(scen_tax)\n",
    "prepare_plots(rep)"
   ]
  },
  {
   "cell_type": "markdown",
   "id": "f027db7b",
   "metadata": {},
   "source": [
    "Activity"
   ]
  },
  {
   "cell_type": "code",
   "execution_count": 16,
   "id": "31610012",
   "metadata": {
    "scrolled": true
   },
   "outputs": [
    {
     "data": {
      "text/plain": [
       "<AxesSubplot:title={'center':'Westeros Energy System Activity'}, xlabel='Year', ylabel='GWa'>"
      ]
     },
     "execution_count": 16,
     "metadata": {},
     "output_type": "execute_result"
    },
    {
     "data": {
      "image/png": "[encoded data removed]",
      "text/plain": [
       "<Figure size 432x288 with 1 Axes>"
      ]
     },
     "metadata": {
      "needs_background": "light"
     },
     "output_type": "display_data"
    }
   ],
   "source": [
    "rep.set_filters(t=[\"coal_ppl\", \"wind_ppl\",\"ngcc_ppl\"])\n",
    "rep.get(\"plot activity\")"
   ]
  },
  {
   "cell_type": "markdown",
   "id": "ffc6313f",
   "metadata": {},
   "source": [
    "Capacity"
   ]
  },
  {
   "cell_type": "code",
   "execution_count": 17,
   "id": "69db698b",
   "metadata": {},
   "outputs": [
    {
     "data": {
      "text/plain": [
       "<AxesSubplot:title={'center':'Westeros Energy System Capacity'}, xlabel='Year', ylabel='GW'>"
      ]
     },
     "execution_count": 17,
     "metadata": {},
     "output_type": "execute_result"
    },
    {
     "data": {
      "image/png": "[encoded data removed]",
      "text/plain": [
       "<Figure size 432x288 with 1 Axes>"
      ]
     },
     "metadata": {
      "needs_background": "light"
     },
     "output_type": "display_data"
    }
   ],
   "source": [
    "rep.get(\"plot capacity\")"
   ]
  },
  {
   "cell_type": "markdown",
   "id": "dcaaa9fd",
   "metadata": {},
   "source": [
    "Electricy price"
   ]
  },
  {
   "cell_type": "code",
   "execution_count": 18,
   "id": "4de8c05b",
   "metadata": {},
   "outputs": [
    {
     "data": {
      "text/plain": [
       "<AxesSubplot:title={'center':'Westeros Energy System Prices'}, xlabel='Year', ylabel='¢/kW·h'>"
      ]
     },
     "execution_count": 18,
     "metadata": {},
     "output_type": "execute_result"
    },
    {
     "data": {
      "image/png": "[encoded data removed]",
      "text/plain": [
       "<Figure size 432x288 with 1 Axes>"
      ]
     },
     "metadata": {
      "needs_background": "light"
     },
     "output_type": "display_data"
    }
   ],
   "source": [
    "rep.set_filters(t=None, c=[\"light\"])\n",
    "rep.get(\"plot prices\")"
   ]
  },
  {
   "cell_type": "markdown",
   "id": "8ad12fd0",
   "metadata": {},
   "source": [
    "# Comments on the results\n",
    "\n",
    "- With a fixed carbon price up to 20 USD/tCO2 the wind is still not present in the third decade. \n",
    "- With a fixed carbon price over 33 USD/tCO2 the coal is not present after the first decade.\n",
    "\n",
    "We conclude that a 'sweet spot' is found in the range of [21 - 32] USD/tCO2, with respectively \n",
    "- [602933.5 - 670602.5] total system cost, against 408462.5 of the non-constrained ``westeros_bis_energymix1.ipynb`` and 427093.1 of emissions cap constrained ``westeros_bis_emissions2.ipynb``\n",
    "- (4.5, 5, 3.5) - (6.1, 4.5, 4.5) ¢/kW·h electricity prices, against (4, 4.5, 4) ¢/kW·h of ``westeros_bis_emissions2.ipynb``\n",
    "\n",
    "The carbon emissions in the three decades for the whole range of [21 - 32] USD/tCO2 are equal to (300, 433, 614) MtCO2, against (463, 660, 677) of ``westeros_bis_emissions2.ipynb``\n",
    "\n",
    "## Findings\n",
    "In conclusion, overpricing carbon has no positive effect for both the energy system and the end user of electricity, because the overall cost and the electricity price are considerably higher with no effect of emissions reduction.\n",
    "\n",
    "In the necessity of severe carbon reduction, the carbon tax of 21 USD/tCO2 is the right pathway, while if a moderate reduction is enough (maybe for Westeros but not for planet Earth) it is way more economically convenient to set an emission cap with lower cost on the overall system."
   ]
  },
  {
   "cell_type": "markdown",
   "id": "a54deb81",
   "metadata": {},
   "source": [
    "Close connection to the database"
   ]
  },
  {
   "cell_type": "code",
   "execution_count": 19,
   "id": "32f4fe60",
   "metadata": {},
   "outputs": [],
   "source": [
    "mp.close_db()"
   ]
  }
 ],
 "metadata": {
  "kernelspec": {
   "display_name": "Python [conda env:message_env] *",
   "language": "python",
   "name": "conda-env-message_env-py"
  },
  "language_info": {
   "codemirror_mode": {
    "name": "ipython",
    "version": 3
   },
   "file_extension": ".py",
   "mimetype": "text/x-python",
   "name": "python",
   "nbconvert_exporter": "python",
   "pygments_lexer": "ipython3",
   "version": "3.8.10"
  }
 },
 "nbformat": 4,
 "nbformat_minor": 5
}
