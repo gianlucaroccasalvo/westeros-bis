{
 "cells": [
  {
   "cell_type": "markdown",
   "id": "82264e30",
   "metadata": {},
   "source": [
    "# Westeros bis - emissions introduction and analysis\n",
    "\n",
    "Comparing the three scenarios with the following energy mixes at year 690\n",
    "- 60% share of coal and 00% gas generation (``westeros_bis_baseline.ipynb``)\n",
    "- 40% share of coal and 20% gas generation (``westeros_bis_energymix1.ipynb``)\n",
    "- 20% share of coal and 40% gas generation (``westeros_bis_energymix2.ipynb``)\n",
    "It has been observed a decreasing total cost of the system and price of electricity.\n",
    "\n",
    "Even though the ``westeros_bis_energymix2.ipynb`` is closer to the modern energy portfolio, the second ``westeros_bis_energymix1.ipynb`` will be considered because of a more dynamic profile of coal capacity, and will be the base for the implementation of:\n",
    "- emission impact of gas and coal\n",
    "- emissions cap of 700 Mt of CO2.\n",
    "\n",
    "### Pre-requisites\n",
    "- You have the MESSAGEix framework installed and working\n",
    "- You have run (``westeros_bis_baseline.ipynb``) scenario and solved it successfully\n",
    "- You have run (``westeros_bis_energymix1.ipynb``) scenario"
   ]
  },
  {
   "cell_type": "code",
   "execution_count": 1,
   "id": "b017c530",
   "metadata": {},
   "outputs": [
    {
     "data": {
      "application/javascript": [
       "IPython.OutputArea.prototype._should_scroll = function(lines) { return false; }"
      ],
      "text/plain": [
       "<IPython.core.display.Javascript object>"
      ]
     },
     "metadata": {},
     "output_type": "display_data"
    }
   ],
   "source": [
    "import pandas as pd\n",
    "import ixmp\n",
    "import message_ix\n",
    "\n",
    "from message_ix.util import make_df\n",
    "\n",
    "%matplotlib inline"
   ]
  },
  {
   "cell_type": "code",
   "execution_count": 2,
   "id": "467f35da",
   "metadata": {},
   "outputs": [],
   "source": [
    "mp = ixmp.Platform()"
   ]
  },
  {
   "cell_type": "markdown",
   "id": "cb6d50d5",
   "metadata": {},
   "source": [
    "Recalling the model"
   ]
  },
  {
   "cell_type": "code",
   "execution_count": 3,
   "id": "8f507eca",
   "metadata": {},
   "outputs": [],
   "source": [
    "model = 'Westeros Electrified'\n",
    "base = message_ix.Scenario(mp, model=model, scenario='energy mix1')"
   ]
  },
  {
   "cell_type": "markdown",
   "id": "99ef9c84",
   "metadata": {},
   "source": [
    "Creating emission scenario by cloning energy mix 1"
   ]
  },
  {
   "cell_type": "code",
   "execution_count": 4,
   "id": "87e3f44a",
   "metadata": {},
   "outputs": [],
   "source": [
    "scen_em1 = base.clone(model, 'emissions1','adding emissions cap',\n",
    "                  keep_solution=False)\n",
    "scen_em1.check_out()"
   ]
  },
  {
   "cell_type": "code",
   "execution_count": 5,
   "id": "5f571a63",
   "metadata": {},
   "outputs": [],
   "source": [
    "year_df = scen_em1.vintage_and_active_years()\n",
    "vintage_years, act_years = year_df['year_vtg'], year_df['year_act']\n",
    "model_horizon = scen_em1.set('year') \n",
    "country = 'Westeros'"
   ]
  },
  {
   "cell_type": "markdown",
   "id": "322e102f",
   "metadata": {},
   "source": [
    "Introducing emissions category, parameter, and value for coal and gas technology"
   ]
  },
  {
   "cell_type": "code",
   "execution_count": 6,
   "id": "944d13cf",
   "metadata": {},
   "outputs": [
    {
     "name": "stderr",
     "output_type": "stream",
     "text": [
      "INFO:root:unit `tCO2/kWa` is already defined in the platform instance\n",
      "INFO:root:unit `MtCO2` is already defined in the platform instance\n"
     ]
    }
   ],
   "source": [
    "# first we introduce the emission of CO2 and the emission category GHG\n",
    "scen_em1.add_set('emission', 'CO2')\n",
    "scen_em1.add_cat('emission', 'GHG', 'CO2')\n",
    "\n",
    "# we now add CO2 emissions to the coal powerplant\n",
    "base_emission_factor = {\n",
    "    'node_loc': country,\n",
    "    'year_vtg': vintage_years,\n",
    "    'year_act': act_years,\n",
    "    'mode': 'standard',\n",
    "    'unit': 'tCO2/kWa',\n",
    "}\n",
    "\n",
    "# adding new units to the model library (needed only once)\n",
    "mp.add_unit('tCO2/kWa')\n",
    "mp.add_unit('MtCO2')"
   ]
  },
  {
   "cell_type": "code",
   "execution_count": 7,
   "id": "e9333bb6",
   "metadata": {},
   "outputs": [],
   "source": [
    "emission_factor = { # values from https://doi.org/10.1016/B978-0-8155-2049-8.10007-5 converted to tCO2/kWa\n",
    "    'coal_ppl': 7.07, \n",
    "    'ngcc_ppl': 3.11,\n",
    "    'wind_ppl': 0,\n",
    "}\n",
    "\n",
    "for tec, val in emission_factor.items():\n",
    "    df = make_df(base_emission_factor, technology=tec, value=val, emission='CO2')\n",
    "    scen_em1.add_par('emission_factor', df)"
   ]
  },
  {
   "cell_type": "markdown",
   "id": "6cd186db",
   "metadata": {},
   "source": [
    "Introducing an upper bound"
   ]
  },
  {
   "cell_type": "code",
   "execution_count": 8,
   "id": "8b4094dc",
   "metadata": {},
   "outputs": [],
   "source": [
    "scen_em1.add_par('bound_emission', [country, 'GHG', 'all', 'cumulative'],\n",
    "             value=700., unit='MtCO2')"
   ]
  },
  {
   "cell_type": "markdown",
   "id": "e37ebb65",
   "metadata": {},
   "source": [
    "Solving the model"
   ]
  },
  {
   "cell_type": "code",
   "execution_count": 9,
   "id": "c80860ae",
   "metadata": {},
   "outputs": [],
   "source": [
    "scen_em1.commit(comment='introducing emissions and setting an upper bound')\n",
    "scen_em1.set_as_default()"
   ]
  },
  {
   "cell_type": "code",
   "execution_count": 10,
   "id": "857b5f51",
   "metadata": {},
   "outputs": [],
   "source": [
    "scen_em1.solve()"
   ]
  },
  {
   "cell_type": "code",
   "execution_count": 11,
   "id": "579bebb1",
   "metadata": {},
   "outputs": [
    {
     "data": {
      "text/plain": [
       "409672.09375"
      ]
     },
     "execution_count": 11,
     "metadata": {},
     "output_type": "execute_result"
    }
   ],
   "source": [
    "scen_em1.var('OBJ')['lvl']"
   ]
  },
  {
   "cell_type": "markdown",
   "id": "52dbd129",
   "metadata": {},
   "source": [
    "Plotting the results"
   ]
  },
  {
   "cell_type": "code",
   "execution_count": 12,
   "id": "7f8de0b2",
   "metadata": {},
   "outputs": [],
   "source": [
    "from message_ix.reporting import Reporter\n",
    "from message_ix.util.tutorial import prepare_plots\n",
    "\n",
    "rep = Reporter.from_scenario(scen_em1)\n",
    "prepare_plots(rep)"
   ]
  },
  {
   "cell_type": "markdown",
   "id": "f027db7b",
   "metadata": {},
   "source": [
    "Activity"
   ]
  },
  {
   "cell_type": "code",
   "execution_count": 13,
   "id": "31610012",
   "metadata": {
    "scrolled": true
   },
   "outputs": [
    {
     "data": {
      "text/plain": [
       "<AxesSubplot:title={'center':'Westeros Energy System Activity'}, xlabel='Year', ylabel='GWa'>"
      ]
     },
     "execution_count": 13,
     "metadata": {},
     "output_type": "execute_result"
    },
    {
     "data": {
      "image/png": "[encoded data removed]",
      "text/plain": [
       "<Figure size 432x288 with 1 Axes>"
      ]
     },
     "metadata": {
      "needs_background": "light"
     },
     "output_type": "display_data"
    }
   ],
   "source": [
    "rep.set_filters(t=[\"coal_ppl\", \"wind_ppl\",\"ngcc_ppl\"])\n",
    "rep.get(\"plot activity\")"
   ]
  },
  {
   "cell_type": "markdown",
   "id": "ffc6313f",
   "metadata": {},
   "source": [
    "Capacity"
   ]
  },
  {
   "cell_type": "code",
   "execution_count": 14,
   "id": "69db698b",
   "metadata": {},
   "outputs": [
    {
     "data": {
      "text/plain": [
       "<AxesSubplot:title={'center':'Westeros Energy System Capacity'}, xlabel='Year', ylabel='GW'>"
      ]
     },
     "execution_count": 14,
     "metadata": {},
     "output_type": "execute_result"
    },
    {
     "data": {
      "image/png": "[encoded data removed]",
      "text/plain": [
       "<Figure size 432x288 with 1 Axes>"
      ]
     },
     "metadata": {
      "needs_background": "light"
     },
     "output_type": "display_data"
    }
   ],
   "source": [
    "rep.get(\"plot capacity\")"
   ]
  },
  {
   "cell_type": "markdown",
   "id": "dcaaa9fd",
   "metadata": {},
   "source": [
    "Electricy price"
   ]
  },
  {
   "cell_type": "code",
   "execution_count": 15,
   "id": "4de8c05b",
   "metadata": {
    "scrolled": false
   },
   "outputs": [
    {
     "data": {
      "text/plain": [
       "<AxesSubplot:title={'center':'Westeros Energy System Prices'}, xlabel='Year', ylabel='¢/kW·h'>"
      ]
     },
     "execution_count": 15,
     "metadata": {},
     "output_type": "execute_result"
    },
    {
     "data": {
      "image/png": "[encoded data removed]",
      "text/plain": [
       "<Figure size 432x288 with 1 Axes>"
      ]
     },
     "metadata": {
      "needs_background": "light"
     },
     "output_type": "display_data"
    }
   ],
   "source": [
    "rep.set_filters(t=None, c=[\"light\"])\n",
    "rep.get(\"plot prices\")"
   ]
  },
  {
   "cell_type": "markdown",
   "id": "bb298b9d",
   "metadata": {},
   "source": [
    "Take a more detailed look into carbon emissions by decade, and equivalent emission prices"
   ]
  },
  {
   "cell_type": "code",
   "execution_count": 16,
   "id": "625a6de2",
   "metadata": {},
   "outputs": [
    {
     "data": {
      "text/html": [
       "<div>\n",
       "<style scoped>\n",
       "    .dataframe tbody tr th:only-of-type {\n",
       "        vertical-align: middle;\n",
       "    }\n",
       "\n",
       "    .dataframe tbody tr th {\n",
       "        vertical-align: top;\n",
       "    }\n",
       "\n",
       "    .dataframe thead th {\n",
       "        text-align: right;\n",
       "    }\n",
       "</style>\n",
       "<table border=\"1\" class=\"dataframe\">\n",
       "  <thead>\n",
       "    <tr style=\"text-align: right;\">\n",
       "      <th></th>\n",
       "      <th>node</th>\n",
       "      <th>emission</th>\n",
       "      <th>type_tec</th>\n",
       "      <th>year</th>\n",
       "      <th>lvl</th>\n",
       "      <th>mrg</th>\n",
       "    </tr>\n",
       "  </thead>\n",
       "  <tbody>\n",
       "    <tr>\n",
       "      <th>0</th>\n",
       "      <td>Westeros</td>\n",
       "      <td>CO2</td>\n",
       "      <td>all</td>\n",
       "      <td>700</td>\n",
       "      <td>463.083699</td>\n",
       "      <td>0.0</td>\n",
       "    </tr>\n",
       "    <tr>\n",
       "      <th>1</th>\n",
       "      <td>Westeros</td>\n",
       "      <td>CO2</td>\n",
       "      <td>all</td>\n",
       "      <td>710</td>\n",
       "      <td>759.609085</td>\n",
       "      <td>0.0</td>\n",
       "    </tr>\n",
       "    <tr>\n",
       "      <th>2</th>\n",
       "      <td>Westeros</td>\n",
       "      <td>CO2</td>\n",
       "      <td>all</td>\n",
       "      <td>720</td>\n",
       "      <td>877.307215</td>\n",
       "      <td>0.0</td>\n",
       "    </tr>\n",
       "  </tbody>\n",
       "</table>\n",
       "</div>"
      ],
      "text/plain": [
       "       node emission type_tec  year         lvl  mrg\n",
       "0  Westeros      CO2      all   700  463.083699  0.0\n",
       "1  Westeros      CO2      all   710  759.609085  0.0\n",
       "2  Westeros      CO2      all   720  877.307215  0.0"
      ]
     },
     "execution_count": 16,
     "metadata": {},
     "output_type": "execute_result"
    }
   ],
   "source": [
    "emissions = scen_em1.var('EMISS', {'node': 'Westeros'})\n",
    "emissions"
   ]
  },
  {
   "cell_type": "code",
   "execution_count": 17,
   "id": "eb275807",
   "metadata": {},
   "outputs": [
    {
     "data": {
      "text/html": [
       "<div>\n",
       "<style scoped>\n",
       "    .dataframe tbody tr th:only-of-type {\n",
       "        vertical-align: middle;\n",
       "    }\n",
       "\n",
       "    .dataframe tbody tr th {\n",
       "        vertical-align: top;\n",
       "    }\n",
       "\n",
       "    .dataframe thead th {\n",
       "        text-align: right;\n",
       "    }\n",
       "</style>\n",
       "<table border=\"1\" class=\"dataframe\">\n",
       "  <thead>\n",
       "    <tr style=\"text-align: right;\">\n",
       "      <th></th>\n",
       "      <th>node</th>\n",
       "      <th>type_emission</th>\n",
       "      <th>type_tec</th>\n",
       "      <th>year</th>\n",
       "      <th>lvl</th>\n",
       "      <th>mrg</th>\n",
       "    </tr>\n",
       "  </thead>\n",
       "  <tbody>\n",
       "    <tr>\n",
       "      <th>0</th>\n",
       "      <td>Westeros</td>\n",
       "      <td>GHG</td>\n",
       "      <td>all</td>\n",
       "      <td>700</td>\n",
       "      <td>1.877639</td>\n",
       "      <td>0.0</td>\n",
       "    </tr>\n",
       "    <tr>\n",
       "      <th>1</th>\n",
       "      <td>Westeros</td>\n",
       "      <td>GHG</td>\n",
       "      <td>all</td>\n",
       "      <td>710</td>\n",
       "      <td>3.058476</td>\n",
       "      <td>0.0</td>\n",
       "    </tr>\n",
       "    <tr>\n",
       "      <th>2</th>\n",
       "      <td>Westeros</td>\n",
       "      <td>GHG</td>\n",
       "      <td>all</td>\n",
       "      <td>720</td>\n",
       "      <td>4.981935</td>\n",
       "      <td>0.0</td>\n",
       "    </tr>\n",
       "  </tbody>\n",
       "</table>\n",
       "</div>"
      ],
      "text/plain": [
       "       node type_emission type_tec  year       lvl  mrg\n",
       "0  Westeros           GHG      all   700  1.877639  0.0\n",
       "1  Westeros           GHG      all   710  3.058476  0.0\n",
       "2  Westeros           GHG      all   720  4.981935  0.0"
      ]
     },
     "execution_count": 17,
     "metadata": {},
     "output_type": "execute_result"
    }
   ],
   "source": [
    "emission_prices = scen_em1.var('PRICE_EMISSION')\n",
    "emission_prices"
   ]
  },
  {
   "cell_type": "markdown",
   "id": "cfe7ccc3",
   "metadata": {},
   "source": [
    "# Comments on the results\n",
    "\n",
    "In ``westeros_bis_emissions_cap1.ipynb`` with respect to ``westeros_bis_energymix1.ipynb``:\n",
    "- total cost is just slightly higher, 409672.09375 against 408462.5625\n",
    "- Coal technology activity is slightly decreased in the last decade, and the electricity price slightly increased in the same period.\n",
    "- Gas technology is replacing the coal in the last decade, and wind technology activity is unchanged.\n",
    "\n",
    "The relaxed emission cap allows a great emission production (almost unaffected with respect to scenario ``westeros_bis_energymix1.ipynb``) and extremely low carbon prices of (1.8, 3, 5) USD/tCO2 in the three decades.\n",
    "\n",
    "Two similar scenarios will be analyzed with lower caps of 600 and 500 MtCO2."
   ]
  },
  {
   "cell_type": "markdown",
   "id": "a54deb81",
   "metadata": {},
   "source": [
    "Close connection to the database"
   ]
  },
  {
   "cell_type": "code",
   "execution_count": 18,
   "id": "32f4fe60",
   "metadata": {},
   "outputs": [],
   "source": [
    "mp.close_db()"
   ]
  }
 ],
 "metadata": {
  "kernelspec": {
   "display_name": "Python [conda env:message_env] *",
   "language": "python",
   "name": "conda-env-message_env-py"
  },
  "language_info": {
   "codemirror_mode": {
    "name": "ipython",
    "version": 3
   },
   "file_extension": ".py",
   "mimetype": "text/x-python",
   "name": "python",
   "nbconvert_exporter": "python",
   "pygments_lexer": "ipython3",
   "version": "3.8.10"
  }
 },
 "nbformat": 4,
 "nbformat_minor": 5
}
