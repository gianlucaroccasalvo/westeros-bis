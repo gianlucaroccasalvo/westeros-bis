{
 "cells": [
  {
   "cell_type": "markdown",
   "id": "ab271c82",
   "metadata": {},
   "source": [
    "# Energy mix analysis\n",
    "\n",
    "In the results from the baseline scenario we can notice that the gas power plant is not in use, and that wind generation decreases untill year 710 when it goes out of service because of its 20 years lifetime. \n",
    "\n",
    "At that point, it is more economical to exploit coal plant only rather than building a new wind plant: all investment costs are avoided by the cost minimization algorithm.\n",
    "\n",
    "For the same reason, the construction of gas plant is not even planned in year 690.\n",
    "The price of electricity decreases because of the increasing share of coal generation.\n",
    "\n",
    "## Proposed adjustments\n",
    "\n",
    "Add a sensitivity analysis starting the baseline scenario in year 690 with \n",
    "- 40% share of coal and 20% gas generation (``westeros_bis_energymix1.ipynb``)\n",
    "- 20% share of coal and 40% gas generation (``westeros_bis_energymix2.ipynb``)\n",
    "\n",
    "and compare the results.\n",
    "\n",
    "### Pre-requisites\n",
    "- You have the MESSAGEix framework installed and working\n",
    "- You have run Westeros baseline scenario (``westeros_bis_baseline.ipynb``) and solved it successfully"
   ]
  },
  {
   "cell_type": "markdown",
   "id": "5ed61437",
   "metadata": {},
   "source": [
    "Importing the baseline scenario"
   ]
  },
  {
   "cell_type": "code",
   "execution_count": 1,
   "id": "01f21e6f",
   "metadata": {},
   "outputs": [
    {
     "data": {
      "application/javascript": [
       "IPython.OutputArea.prototype._should_scroll = function(lines) { return false; }"
      ],
      "text/plain": [
       "<IPython.core.display.Javascript object>"
      ]
     },
     "metadata": {},
     "output_type": "display_data"
    }
   ],
   "source": [
    "import pandas as pd\n",
    "import ixmp\n",
    "import message_ix\n",
    "\n",
    "from message_ix.util import make_df\n",
    "\n",
    "%matplotlib inline"
   ]
  },
  {
   "cell_type": "code",
   "execution_count": 2,
   "id": "0d897f9d",
   "metadata": {},
   "outputs": [],
   "source": [
    "mp = ixmp.Platform()"
   ]
  },
  {
   "cell_type": "code",
   "execution_count": 3,
   "id": "80041919",
   "metadata": {},
   "outputs": [],
   "source": [
    "model = 'Westeros Electrified'\n",
    "\n",
    "base = message_ix.Scenario(mp, model=model, scenario='baseline')\n",
    "scen_em2 = base.clone(model, 'energy mix','exploring the share of fossil generation',\n",
    "                  keep_solution=False)\n",
    "scen_em2.check_out()"
   ]
  },
  {
   "cell_type": "code",
   "execution_count": 4,
   "id": "904a5c39",
   "metadata": {},
   "outputs": [],
   "source": [
    "year_df = scen_em2.vintage_and_active_years()\n",
    "vintage_years, act_years = year_df['year_vtg'], year_df['year_act']\n",
    "model_horizon = scen_em2.set('year') \n",
    "country = 'Westeros'"
   ]
  },
  {
   "cell_type": "markdown",
   "id": "c1a87bb7",
   "metadata": {},
   "source": [
    "## Editing the energy mix at year 690\n",
    "\n",
    "Re-introducing parameters for computation of base state."
   ]
  },
  {
   "cell_type": "code",
   "execution_count": 5,
   "id": "9bbd061a",
   "metadata": {},
   "outputs": [],
   "source": [
    "history = [690]\n",
    "demand_per_year = 40 * 12 * 1000 / 8760\n",
    "grid_efficiency = 0.9\n",
    "\n",
    "historic_demand = 0.85 * demand_per_year\n",
    "historic_generation = historic_demand / grid_efficiency\n",
    "\n",
    "# key parameters!\n",
    "coal_fraction = 0.2\n",
    "ngcc_fraction = 0.4"
   ]
  },
  {
   "cell_type": "markdown",
   "id": "2040bc98",
   "metadata": {},
   "source": [
    "Re-introducing capacity factor, base capacity and base activity"
   ]
  },
  {
   "cell_type": "code",
   "execution_count": 6,
   "id": "9415da8a",
   "metadata": {},
   "outputs": [],
   "source": [
    "base_capacity_factor = {\n",
    "    'node_loc': country,\n",
    "    'year_vtg': vintage_years,\n",
    "    'year_act': act_years,\n",
    "    'time': 'year',\n",
    "    'unit': '-',\n",
    "}"
   ]
  },
  {
   "cell_type": "code",
   "execution_count": 7,
   "id": "826d65d4",
   "metadata": {},
   "outputs": [],
   "source": [
    "capacity_factor = { # power plants cf as indicated in the reference https://doi.org/10.1016/B978-0-12-810448-4.00001-X\n",
    "    'coal_ppl': 0.85, # used to be 1 in the absence of other fossil generation, now it is lower than one\n",
    "    'wind_ppl': 0.36, \n",
    "    'ngcc_ppl': 0.87, \n",
    "    'bulb': 1, \n",
    "}\n",
    "\n",
    "for tec, val in capacity_factor.items():\n",
    "    df = make_df(base_capacity_factor, technology=tec, value=val)\n",
    "    scen_em2.add_par('capacity_factor', df)"
   ]
  },
  {
   "cell_type": "code",
   "execution_count": 8,
   "id": "aee72e9b",
   "metadata": {},
   "outputs": [],
   "source": [
    "base_capacity = {\n",
    "    'node_loc': country,\n",
    "    'year_vtg': history,\n",
    "    'unit': 'GWa',\n",
    "}\n",
    "\n",
    "base_activity = {\n",
    "    'node_loc': country,\n",
    "    'year_act': history,\n",
    "    'mode': 'standard',\n",
    "    'time': 'year',\n",
    "    'unit': 'GWa',\n",
    "}"
   ]
  },
  {
   "cell_type": "code",
   "execution_count": 9,
   "id": "5f83e68c",
   "metadata": {},
   "outputs": [],
   "source": [
    "old_activity = {\n",
    "    'coal_ppl': coal_fraction * historic_generation,\n",
    "    'ngcc_ppl': ngcc_fraction * historic_generation,\n",
    "    'wind_ppl': (1 - coal_fraction - ngcc_fraction) * historic_generation,\n",
    "}\n",
    "\n",
    "for tec, val in old_activity.items():\n",
    "    df = make_df(base_activity, technology=tec, value=val)\n",
    "    scen_em2.add_par('historical_activity', df)"
   ]
  },
  {
   "cell_type": "code",
   "execution_count": 10,
   "id": "c3d8237f",
   "metadata": {},
   "outputs": [],
   "source": [
    "act_to_cap = {\n",
    "    'coal_ppl': 1 / 10 / capacity_factor['coal_ppl'] / 3.5, # 35 year lifetime\n",
    "    'wind_ppl': 1 / 10 / capacity_factor['wind_ppl'] / 2,\n",
    "    'ngcc_ppl': 1 / 10 / capacity_factor['ngcc_ppl'] / 2.5, # 25 year lifetime\n",
    "}\n",
    "\n",
    "for tec in act_to_cap:\n",
    "    value = old_activity[tec] * act_to_cap[tec]\n",
    "    df = make_df(base_capacity, technology=tec, value=value)\n",
    "    scen_em2.add_par('historical_new_capacity', df)"
   ]
  },
  {
   "cell_type": "markdown",
   "id": "95a70db6",
   "metadata": {},
   "source": [
    "Solving the model"
   ]
  },
  {
   "cell_type": "code",
   "execution_count": 11,
   "id": "abb729e5",
   "metadata": {},
   "outputs": [],
   "source": [
    "scen_em2.commit(comment='introducing emissions and setting an upper bound')\n",
    "scen_em2.set_as_default()"
   ]
  },
  {
   "cell_type": "code",
   "execution_count": 12,
   "id": "929b6597",
   "metadata": {},
   "outputs": [],
   "source": [
    "scen_em2.solve()"
   ]
  },
  {
   "cell_type": "code",
   "execution_count": 13,
   "id": "c65c4974",
   "metadata": {},
   "outputs": [
    {
     "data": {
      "text/plain": [
       "372333.71875"
      ]
     },
     "execution_count": 13,
     "metadata": {},
     "output_type": "execute_result"
    }
   ],
   "source": [
    "scen_em2.var('OBJ')['lvl']"
   ]
  },
  {
   "cell_type": "markdown",
   "id": "0cc2b496",
   "metadata": {},
   "source": [
    "Plotting the results"
   ]
  },
  {
   "cell_type": "code",
   "execution_count": 14,
   "id": "d5b3fead",
   "metadata": {},
   "outputs": [],
   "source": [
    "from message_ix.reporting import Reporter\n",
    "from message_ix.util.tutorial import prepare_plots\n",
    "\n",
    "rep = Reporter.from_scenario(scen_em2)\n",
    "prepare_plots(rep)"
   ]
  },
  {
   "cell_type": "markdown",
   "id": "798944a0",
   "metadata": {},
   "source": [
    "Activity"
   ]
  },
  {
   "cell_type": "code",
   "execution_count": 15,
   "id": "bcbc1533",
   "metadata": {},
   "outputs": [
    {
     "data": {
      "text/plain": [
       "<AxesSubplot:title={'center':'Westeros Energy System Activity'}, xlabel='Year', ylabel='GWa'>"
      ]
     },
     "execution_count": 15,
     "metadata": {},
     "output_type": "execute_result"
    },
    {
     "data": {
      "image/png": "[encoded data removed]",
      "text/plain": [
       "<Figure size 432x288 with 1 Axes>"
      ]
     },
     "metadata": {
      "needs_background": "light"
     },
     "output_type": "display_data"
    }
   ],
   "source": [
    "rep.set_filters(t=[\"coal_ppl\", \"wind_ppl\", \"ngcc_ppl\"])\n",
    "rep.get(\"plot activity\")"
   ]
  },
  {
   "cell_type": "markdown",
   "id": "e527eb64",
   "metadata": {},
   "source": [
    "Capacity"
   ]
  },
  {
   "cell_type": "code",
   "execution_count": 16,
   "id": "08b9e80d",
   "metadata": {},
   "outputs": [
    {
     "data": {
      "text/plain": [
       "<AxesSubplot:title={'center':'Westeros Energy System Capacity'}, xlabel='Year', ylabel='GW'>"
      ]
     },
     "execution_count": 16,
     "metadata": {},
     "output_type": "execute_result"
    },
    {
     "data": {
      "image/png": "[encoded data removed]",
      "text/plain": [
       "<Figure size 432x288 with 1 Axes>"
      ]
     },
     "metadata": {
      "needs_background": "light"
     },
     "output_type": "display_data"
    }
   ],
   "source": [
    "rep.get(\"plot capacity\")"
   ]
  },
  {
   "cell_type": "markdown",
   "id": "5b573b0c",
   "metadata": {},
   "source": [
    "Electricity price"
   ]
  },
  {
   "cell_type": "code",
   "execution_count": 17,
   "id": "6783d7ac",
   "metadata": {},
   "outputs": [
    {
     "data": {
      "text/plain": [
       "<AxesSubplot:title={'center':'Westeros Energy System Prices'}, xlabel='Year', ylabel='¢/kW·h'>"
      ]
     },
     "execution_count": 17,
     "metadata": {},
     "output_type": "execute_result"
    },
    {
     "data": {
      "image/png": "[encoded data removed]",
      "text/plain": [
       "<Figure size 432x288 with 1 Axes>"
      ]
     },
     "metadata": {
      "needs_background": "light"
     },
     "output_type": "display_data"
    }
   ],
   "source": [
    "rep.set_filters(t=None, c=[\"light\"])\n",
    "rep.get(\"plot prices\")"
   ]
  },
  {
   "attachments": {},
   "cell_type": "markdown",
   "id": "e898433a",
   "metadata": {},
   "source": [
    "# Comments on the results\n",
    "\n",
    "- total cost is reduced from 466358.3125 (only coal) to 372333.7188 (20.2%)\n",
    "- Coal technology is constant in the whole horizon.\n",
    "- Gas technology is present, increasing, and replacing all the wind share in the last decade since it is a cheaper technology.\n",
    "- Price is drastically reduced after first decade!"
   ]
  },
  {
   "cell_type": "markdown",
   "id": "c057dd6b",
   "metadata": {},
   "source": [
    "Close the connection to the database"
   ]
  },
  {
   "cell_type": "code",
   "execution_count": 18,
   "id": "c6f44c69",
   "metadata": {},
   "outputs": [],
   "source": [
    "mp.close_db()"
   ]
  }
 ],
 "metadata": {
  "kernelspec": {
   "display_name": "Python [conda env:message_env] *",
   "language": "python",
   "name": "conda-env-message_env-py"
  },
  "language_info": {
   "codemirror_mode": {
    "name": "ipython",
    "version": 3
   },
   "file_extension": ".py",
   "mimetype": "text/x-python",
   "name": "python",
   "nbconvert_exporter": "python",
   "pygments_lexer": "ipython3",
   "version": "3.8.10"
  }
 },
 "nbformat": 4,
 "nbformat_minor": 5
}
