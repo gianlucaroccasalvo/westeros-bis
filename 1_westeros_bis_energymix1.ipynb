{
 "cells": [
  {
   "cell_type": "markdown",
   "id": "1629dd8e",
   "metadata": {},
   "source": [
    "# Energy mix analysis\n",
    "\n",
    "In the results from the ``westeros_bis_baseline.ipynb`` scenario we can notice that the gas power plant is not in use, and that wind generation decreases untill year 710 when it goes out of service because of its 20 years lifetime. \n",
    "\n",
    "At that point, it is more economical to exploit coal plant only rather than building a new wind plant: all investment costs are avoided by the cost minimization algorithm.\n",
    "\n",
    "For the same reason, the construction of gas plant is not even planned in year 690.\n",
    "The price of electricity decreases because of the increasing share of coal generation.\n",
    "\n",
    "## Proposed adjustments\n",
    "\n",
    "Add a sensitivity analysis starting the baseline scenario in year 690 with \n",
    "- 40% share of coal and 20% gas generation (``westeros_bis_energymix1.ipynb``)\n",
    "- 20% share of coal and 40% gas generation (``westeros_bis_energymix2.ipynb``)\n",
    "\n",
    "and compare the results.\n",
    "\n",
    "### Pre-requisites\n",
    "- You have the MESSAGEix framework installed and working\n",
    "- You have run ``westeros_bis_baseline.ipynb`` scenario and solved it successfully"
   ]
  },
  {
   "cell_type": "markdown",
   "id": "5adf94b1",
   "metadata": {},
   "source": [
    "Importing the baseline scenario"
   ]
  },
  {
   "cell_type": "code",
   "execution_count": 1,
   "id": "bede613a",
   "metadata": {},
   "outputs": [
    {
     "data": {
      "application/javascript": [
       "IPython.OutputArea.prototype._should_scroll = function(lines) { return false; }"
      ],
      "text/plain": [
       "<IPython.core.display.Javascript object>"
      ]
     },
     "metadata": {},
     "output_type": "display_data"
    }
   ],
   "source": [
    "import pandas as pd\n",
    "import ixmp\n",
    "import message_ix\n",
    "\n",
    "from message_ix.util import make_df\n",
    "\n",
    "%matplotlib inline"
   ]
  },
  {
   "cell_type": "code",
   "execution_count": 2,
   "id": "72843185",
   "metadata": {},
   "outputs": [],
   "source": [
    "mp = ixmp.Platform()"
   ]
  },
  {
   "cell_type": "code",
   "execution_count": 3,
   "id": "89961b45",
   "metadata": {},
   "outputs": [],
   "source": [
    "model = 'Westeros Electrified'\n",
    "\n",
    "base = message_ix.Scenario(mp, model=model, scenario='baseline')\n",
    "scen_mix1 = base.clone(model, 'energy mix1','exploring the share of fossil generation',\n",
    "                  keep_solution=False)\n",
    "scen_mix1.check_out()"
   ]
  },
  {
   "cell_type": "code",
   "execution_count": 4,
   "id": "e157c396",
   "metadata": {},
   "outputs": [],
   "source": [
    "year_df = scen_mix1.vintage_and_active_years()\n",
    "vintage_years, act_years = year_df['year_vtg'], year_df['year_act']\n",
    "model_horizon = scen_mix1.set('year') \n",
    "country = 'Westeros'"
   ]
  },
  {
   "cell_type": "markdown",
   "id": "79e11978",
   "metadata": {},
   "source": [
    "## Editing the energy mix at year 690\n",
    "\n",
    "Re-introducing parameters for computation of base capacity."
   ]
  },
  {
   "cell_type": "code",
   "execution_count": 5,
   "id": "15ab7d27",
   "metadata": {},
   "outputs": [],
   "source": [
    "history = [690]\n",
    "demand_per_year = 40 * 12 * 1000 / 8760\n",
    "grid_efficiency = 0.9\n",
    "\n",
    "historic_demand = 0.85 * demand_per_year\n",
    "historic_generation = historic_demand / grid_efficiency\n",
    "\n",
    "# key parameters!\n",
    "coal_fraction = 0.4\n",
    "ngcc_fraction = 0.2"
   ]
  },
  {
   "cell_type": "markdown",
   "id": "a5f80e10",
   "metadata": {},
   "source": [
    "Re-introducing capacity factor, base capacity and base activity"
   ]
  },
  {
   "cell_type": "code",
   "execution_count": 6,
   "id": "01c6fba9",
   "metadata": {},
   "outputs": [],
   "source": [
    "base_capacity_factor = {\n",
    "    'node_loc': country,\n",
    "    'year_vtg': vintage_years,\n",
    "    'year_act': act_years,\n",
    "    'time': 'year',\n",
    "    'unit': '-',\n",
    "}"
   ]
  },
  {
   "cell_type": "code",
   "execution_count": 7,
   "id": "1b87236b",
   "metadata": {},
   "outputs": [],
   "source": [
    "capacity_factor = { # power plants cf as indicated in the reference https://doi.org/10.1016/B978-0-12-810448-4.00001-X\n",
    "    'coal_ppl': 0.85, # used to be 1 in the absence of other fossil generation, now it is lower than one\n",
    "    'wind_ppl': 0.36, \n",
    "    'ngcc_ppl': 0.87, \n",
    "    'bulb': 1, \n",
    "}\n",
    "\n",
    "for tec, val in capacity_factor.items():\n",
    "    df = make_df(base_capacity_factor, technology=tec, value=val)\n",
    "    scen_mix1.add_par('capacity_factor', df)"
   ]
  },
  {
   "cell_type": "code",
   "execution_count": 8,
   "id": "5d87da5d",
   "metadata": {},
   "outputs": [],
   "source": [
    "base_capacity = {\n",
    "    'node_loc': country,\n",
    "    'year_vtg': history,\n",
    "    'unit': 'GWa',\n",
    "}\n",
    "\n",
    "base_activity = {\n",
    "    'node_loc': country,\n",
    "    'year_act': history,\n",
    "    'mode': 'standard',\n",
    "    'time': 'year',\n",
    "    'unit': 'GWa',\n",
    "}"
   ]
  },
  {
   "cell_type": "code",
   "execution_count": 9,
   "id": "e5c4f250",
   "metadata": {},
   "outputs": [],
   "source": [
    "old_activity = {\n",
    "    'coal_ppl': coal_fraction * historic_generation,\n",
    "    'ngcc_ppl': ngcc_fraction * historic_generation,\n",
    "    'wind_ppl': (1 - coal_fraction - ngcc_fraction) * historic_generation,\n",
    "}\n",
    "\n",
    "for tec, val in old_activity.items():\n",
    "    df = make_df(base_activity, technology=tec, value=val)\n",
    "    scen_mix1.add_par('historical_activity', df)"
   ]
  },
  {
   "cell_type": "code",
   "execution_count": 10,
   "id": "b4f589d7",
   "metadata": {},
   "outputs": [],
   "source": [
    "act_to_cap = {\n",
    "    'coal_ppl': 1 / 10 / capacity_factor['coal_ppl'] / 3.5, # 35 year lifetime\n",
    "    'wind_ppl': 1 / 10 / capacity_factor['wind_ppl'] / 2,\n",
    "    'ngcc_ppl': 1 / 10 / capacity_factor['ngcc_ppl'] / 2.5, # 25 year lifetime\n",
    "}\n",
    "\n",
    "for tec in act_to_cap:\n",
    "    value = old_activity[tec] * act_to_cap[tec]\n",
    "    df = make_df(base_capacity, technology=tec, value=value)\n",
    "    scen_mix1.add_par('historical_new_capacity', df)"
   ]
  },
  {
   "cell_type": "markdown",
   "id": "ff95caf9",
   "metadata": {},
   "source": [
    "Solving the model"
   ]
  },
  {
   "cell_type": "code",
   "execution_count": 11,
   "id": "01f37da7",
   "metadata": {},
   "outputs": [],
   "source": [
    "scen_mix1.commit(comment='introducing emissions and setting an upper bound')\n",
    "scen_mix1.set_as_default()"
   ]
  },
  {
   "cell_type": "code",
   "execution_count": 12,
   "id": "6040a77a",
   "metadata": {},
   "outputs": [],
   "source": [
    "scen_mix1.solve()"
   ]
  },
  {
   "cell_type": "code",
   "execution_count": 13,
   "id": "3abb2b1d",
   "metadata": {},
   "outputs": [
    {
     "data": {
      "text/plain": [
       "408462.5625"
      ]
     },
     "execution_count": 13,
     "metadata": {},
     "output_type": "execute_result"
    }
   ],
   "source": [
    "scen_mix1.var('OBJ')['lvl']"
   ]
  },
  {
   "cell_type": "markdown",
   "id": "ce9356db",
   "metadata": {},
   "source": [
    "Plotting the results"
   ]
  },
  {
   "cell_type": "code",
   "execution_count": 14,
   "id": "6e5e3d2b",
   "metadata": {},
   "outputs": [],
   "source": [
    "from message_ix.reporting import Reporter\n",
    "from message_ix.util.tutorial import prepare_plots\n",
    "\n",
    "rep = Reporter.from_scenario(scen_mix1)\n",
    "prepare_plots(rep)"
   ]
  },
  {
   "cell_type": "markdown",
   "id": "da28911a",
   "metadata": {},
   "source": [
    "Activity"
   ]
  },
  {
   "cell_type": "code",
   "execution_count": 15,
   "id": "4bd2cf6e",
   "metadata": {},
   "outputs": [
    {
     "data": {
      "text/plain": [
       "<AxesSubplot:title={'center':'Westeros Energy System Activity'}, xlabel='Year', ylabel='GWa'>"
      ]
     },
     "execution_count": 15,
     "metadata": {},
     "output_type": "execute_result"
    },
    {
     "data": {
      "image/png": "[encoded data removed]",
      "text/plain": [
       "<Figure size 432x288 with 1 Axes>"
      ]
     },
     "metadata": {
      "needs_background": "light"
     },
     "output_type": "display_data"
    }
   ],
   "source": [
    "rep.set_filters(t=[\"coal_ppl\", \"wind_ppl\", \"ngcc_ppl\"])\n",
    "rep.get(\"plot activity\")"
   ]
  },
  {
   "cell_type": "markdown",
   "id": "8ad8e076",
   "metadata": {},
   "source": [
    "Capacity"
   ]
  },
  {
   "cell_type": "code",
   "execution_count": 16,
   "id": "400a7b91",
   "metadata": {},
   "outputs": [
    {
     "data": {
      "text/plain": [
       "<AxesSubplot:title={'center':'Westeros Energy System Capacity'}, xlabel='Year', ylabel='GW'>"
      ]
     },
     "execution_count": 16,
     "metadata": {},
     "output_type": "execute_result"
    },
    {
     "data": {
      "image/png": "[encoded data removed]",
      "text/plain": [
       "<Figure size 432x288 with 1 Axes>"
      ]
     },
     "metadata": {
      "needs_background": "light"
     },
     "output_type": "display_data"
    }
   ],
   "source": [
    "rep.get(\"plot capacity\")"
   ]
  },
  {
   "cell_type": "markdown",
   "id": "e2568969",
   "metadata": {},
   "source": [
    "Electricity price"
   ]
  },
  {
   "cell_type": "code",
   "execution_count": 17,
   "id": "c5a586f3",
   "metadata": {
    "scrolled": true
   },
   "outputs": [
    {
     "data": {
      "text/plain": [
       "<AxesSubplot:title={'center':'Westeros Energy System Prices'}, xlabel='Year', ylabel='¢/kW·h'>"
      ]
     },
     "execution_count": 17,
     "metadata": {},
     "output_type": "execute_result"
    },
    {
     "data": {
      "image/png": "[encoded data removed]",
      "text/plain": [
       "<Figure size 432x288 with 1 Axes>"
      ]
     },
     "metadata": {
      "needs_background": "light"
     },
     "output_type": "display_data"
    }
   ],
   "source": [
    "rep.set_filters(t=None, c=[\"light\"])\n",
    "rep.get(\"plot prices\")"
   ]
  },
  {
   "cell_type": "markdown",
   "id": "446c2e95",
   "metadata": {},
   "source": [
    "# Comments on the results\n",
    "\n",
    "In ``westeros_bis_energymix1.ipynb``, with respect to ``westeros_bis_baseline.ipynb``:\n",
    "- total cost is reduced from 466358.3125 (only coal) to 408462.5625 (12.4%)\n",
    "- Coal technology is increasing in year 700 and constant in last two decades.\n",
    "- Gas technology is present, increasing, and replacing all the wind share in the last decade since it is a cheaper technology.\n",
    "- Price is progressively decreasing from about 5, to about 3, to about 1.5."
   ]
  },
  {
   "cell_type": "markdown",
   "id": "455bb457",
   "metadata": {},
   "source": [
    "Close the connection to the database"
   ]
  },
  {
   "cell_type": "code",
   "execution_count": 18,
   "id": "5fe73025",
   "metadata": {},
   "outputs": [],
   "source": [
    "mp.close_db()"
   ]
  }
 ],
 "metadata": {
  "kernelspec": {
   "display_name": "Python [conda env:message_env] *",
   "language": "python",
   "name": "conda-env-message_env-py"
  },
  "language_info": {
   "codemirror_mode": {
    "name": "ipython",
    "version": 3
   },
   "file_extension": ".py",
   "mimetype": "text/x-python",
   "name": "python",
   "nbconvert_exporter": "python",
   "pygments_lexer": "ipython3",
   "version": "3.8.10"
  }
 },
 "nbformat": 4,
 "nbformat_minor": 5
}
